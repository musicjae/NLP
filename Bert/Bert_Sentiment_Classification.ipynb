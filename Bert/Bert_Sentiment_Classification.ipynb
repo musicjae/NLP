{
  "nbformat": 4,
  "nbformat_minor": 0,
  "metadata": {
    "colab": {
      "name": "Bert_Sentiment_Classification.ipynb",
      "provenance": [],
      "collapsed_sections": [],
      "toc_visible": true,
      "authorship_tag": "ABX9TyOTCnQf4NdfqeOm79K0nJfW",
      "include_colab_link": true
    },
    "kernelspec": {
      "name": "python3",
      "display_name": "Python 3"
    },
    "accelerator": "GPU",
    "widgets": {
      "application/vnd.jupyter.widget-state+json": {
        "9c523916f1934508834340818347160b": {
          "model_module": "@jupyter-widgets/controls",
          "model_name": "HBoxModel",
          "state": {
            "_view_name": "HBoxView",
            "_dom_classes": [],
            "_model_name": "HBoxModel",
            "_view_module": "@jupyter-widgets/controls",
            "_model_module_version": "1.5.0",
            "_view_count": null,
            "_view_module_version": "1.5.0",
            "box_style": "",
            "layout": "IPY_MODEL_2b6f5f3246ac4a5687892572c92fa021",
            "_model_module": "@jupyter-widgets/controls",
            "children": [
              "IPY_MODEL_c93c88138cec49ec99aab0e363339634",
              "IPY_MODEL_6b276f1155364f2690b624fedb3a15c1"
            ]
          }
        },
        "2b6f5f3246ac4a5687892572c92fa021": {
          "model_module": "@jupyter-widgets/base",
          "model_name": "LayoutModel",
          "state": {
            "_view_name": "LayoutView",
            "grid_template_rows": null,
            "right": null,
            "justify_content": null,
            "_view_module": "@jupyter-widgets/base",
            "overflow": null,
            "_model_module_version": "1.2.0",
            "_view_count": null,
            "flex_flow": null,
            "width": null,
            "min_width": null,
            "border": null,
            "align_items": null,
            "bottom": null,
            "_model_module": "@jupyter-widgets/base",
            "top": null,
            "grid_column": null,
            "overflow_y": null,
            "overflow_x": null,
            "grid_auto_flow": null,
            "grid_area": null,
            "grid_template_columns": null,
            "flex": null,
            "_model_name": "LayoutModel",
            "justify_items": null,
            "grid_row": null,
            "max_height": null,
            "align_content": null,
            "visibility": null,
            "align_self": null,
            "height": null,
            "min_height": null,
            "padding": null,
            "grid_auto_rows": null,
            "grid_gap": null,
            "max_width": null,
            "order": null,
            "_view_module_version": "1.2.0",
            "grid_template_areas": null,
            "object_position": null,
            "object_fit": null,
            "grid_auto_columns": null,
            "margin": null,
            "display": null,
            "left": null
          }
        },
        "c93c88138cec49ec99aab0e363339634": {
          "model_module": "@jupyter-widgets/controls",
          "model_name": "FloatProgressModel",
          "state": {
            "_view_name": "ProgressView",
            "style": "IPY_MODEL_b0381fad6d1343bf892becbc917b02c6",
            "_dom_classes": [],
            "description": "Downloading: 100%",
            "_model_name": "FloatProgressModel",
            "bar_style": "success",
            "max": 231508,
            "_view_module": "@jupyter-widgets/controls",
            "_model_module_version": "1.5.0",
            "value": 231508,
            "_view_count": null,
            "_view_module_version": "1.5.0",
            "orientation": "horizontal",
            "min": 0,
            "description_tooltip": null,
            "_model_module": "@jupyter-widgets/controls",
            "layout": "IPY_MODEL_0b6996ca8e294ad998ad2d3b8d23d079"
          }
        },
        "6b276f1155364f2690b624fedb3a15c1": {
          "model_module": "@jupyter-widgets/controls",
          "model_name": "HTMLModel",
          "state": {
            "_view_name": "HTMLView",
            "style": "IPY_MODEL_fd74c9260ee94deaa8420fbe57f95717",
            "_dom_classes": [],
            "description": "",
            "_model_name": "HTMLModel",
            "placeholder": "​",
            "_view_module": "@jupyter-widgets/controls",
            "_model_module_version": "1.5.0",
            "value": " 232k/232k [00:00&lt;00:00, 3.05MB/s]",
            "_view_count": null,
            "_view_module_version": "1.5.0",
            "description_tooltip": null,
            "_model_module": "@jupyter-widgets/controls",
            "layout": "IPY_MODEL_0a9c0672340a4c14a106779415fb3593"
          }
        },
        "b0381fad6d1343bf892becbc917b02c6": {
          "model_module": "@jupyter-widgets/controls",
          "model_name": "ProgressStyleModel",
          "state": {
            "_view_name": "StyleView",
            "_model_name": "ProgressStyleModel",
            "description_width": "initial",
            "_view_module": "@jupyter-widgets/base",
            "_model_module_version": "1.5.0",
            "_view_count": null,
            "_view_module_version": "1.2.0",
            "bar_color": null,
            "_model_module": "@jupyter-widgets/controls"
          }
        },
        "0b6996ca8e294ad998ad2d3b8d23d079": {
          "model_module": "@jupyter-widgets/base",
          "model_name": "LayoutModel",
          "state": {
            "_view_name": "LayoutView",
            "grid_template_rows": null,
            "right": null,
            "justify_content": null,
            "_view_module": "@jupyter-widgets/base",
            "overflow": null,
            "_model_module_version": "1.2.0",
            "_view_count": null,
            "flex_flow": null,
            "width": null,
            "min_width": null,
            "border": null,
            "align_items": null,
            "bottom": null,
            "_model_module": "@jupyter-widgets/base",
            "top": null,
            "grid_column": null,
            "overflow_y": null,
            "overflow_x": null,
            "grid_auto_flow": null,
            "grid_area": null,
            "grid_template_columns": null,
            "flex": null,
            "_model_name": "LayoutModel",
            "justify_items": null,
            "grid_row": null,
            "max_height": null,
            "align_content": null,
            "visibility": null,
            "align_self": null,
            "height": null,
            "min_height": null,
            "padding": null,
            "grid_auto_rows": null,
            "grid_gap": null,
            "max_width": null,
            "order": null,
            "_view_module_version": "1.2.0",
            "grid_template_areas": null,
            "object_position": null,
            "object_fit": null,
            "grid_auto_columns": null,
            "margin": null,
            "display": null,
            "left": null
          }
        },
        "fd74c9260ee94deaa8420fbe57f95717": {
          "model_module": "@jupyter-widgets/controls",
          "model_name": "DescriptionStyleModel",
          "state": {
            "_view_name": "StyleView",
            "_model_name": "DescriptionStyleModel",
            "description_width": "",
            "_view_module": "@jupyter-widgets/base",
            "_model_module_version": "1.5.0",
            "_view_count": null,
            "_view_module_version": "1.2.0",
            "_model_module": "@jupyter-widgets/controls"
          }
        },
        "0a9c0672340a4c14a106779415fb3593": {
          "model_module": "@jupyter-widgets/base",
          "model_name": "LayoutModel",
          "state": {
            "_view_name": "LayoutView",
            "grid_template_rows": null,
            "right": null,
            "justify_content": null,
            "_view_module": "@jupyter-widgets/base",
            "overflow": null,
            "_model_module_version": "1.2.0",
            "_view_count": null,
            "flex_flow": null,
            "width": null,
            "min_width": null,
            "border": null,
            "align_items": null,
            "bottom": null,
            "_model_module": "@jupyter-widgets/base",
            "top": null,
            "grid_column": null,
            "overflow_y": null,
            "overflow_x": null,
            "grid_auto_flow": null,
            "grid_area": null,
            "grid_template_columns": null,
            "flex": null,
            "_model_name": "LayoutModel",
            "justify_items": null,
            "grid_row": null,
            "max_height": null,
            "align_content": null,
            "visibility": null,
            "align_self": null,
            "height": null,
            "min_height": null,
            "padding": null,
            "grid_auto_rows": null,
            "grid_gap": null,
            "max_width": null,
            "order": null,
            "_view_module_version": "1.2.0",
            "grid_template_areas": null,
            "object_position": null,
            "object_fit": null,
            "grid_auto_columns": null,
            "margin": null,
            "display": null,
            "left": null
          }
        }
      }
    }
  },
  "cells": [
    {
      "cell_type": "markdown",
      "metadata": {
        "id": "view-in-github",
        "colab_type": "text"
      },
      "source": [
        "<a href=\"https://colab.research.google.com/github/musicjae/NLP/blob/master/Bert/Bert_Sentiment_Classification.ipynb\" target=\"_parent\"><img src=\"https://colab.research.google.com/assets/colab-badge.svg\" alt=\"Open In Colab\"/></a>"
      ]
    },
    {
      "cell_type": "markdown",
      "metadata": {
        "id": "7zRHuZh-9UeX"
      },
      "source": [
        "- Huggingface  \r\n",
        "- Pytorch  \r\n",
        "- CoLA Dataset"
      ]
    },
    {
      "cell_type": "markdown",
      "metadata": {
        "id": "tkMLeJQbKhoY"
      },
      "source": [
        "**원문과 다른 점:**  \r\n",
        "- 트레이닝 시에 나타나는 버그 수정  \r\n",
        "- huggingface 라이브러리에서 찾을 법한 것들을 미리 찾아서 설명 추가  \r\n",
        "- 코드 해설\r\n",
        "  \r\n",
        "**요구되는 개선 사항**\r\n",
        "- 오버피팅이 나타날 수 있음"
      ]
    },
    {
      "cell_type": "markdown",
      "metadata": {
        "id": "CY9S88ZKEChw"
      },
      "source": [
        "# Task: 버트로 문장 감성 분석 "
      ]
    },
    {
      "cell_type": "code",
      "metadata": {
        "colab": {
          "base_uri": "https://localhost:8080/"
        },
        "id": "JkzjlkyQ9S5V",
        "outputId": "c09c3aa1-b232-4c91-a0a8-69c971e99649"
      },
      "source": [
        "import torch\r\n",
        "\r\n",
        "# If there's a GPU available...\r\n",
        "if torch.cuda.is_available():    \r\n",
        "\r\n",
        "    # Tell PyTorch to use the GPU.    \r\n",
        "    device = torch.device(\"cuda\")\r\n",
        "\r\n",
        "    print('There are %d GPU(s) available.' % torch.cuda.device_count())\r\n",
        "\r\n",
        "    print('We will use the GPU:', torch.cuda.get_device_name(0))\r\n",
        "\r\n",
        "# If not...\r\n",
        "else:\r\n",
        "    print('No GPU available, using the CPU instead.')\r\n",
        "    device = torch.device(\"cpu\")"
      ],
      "execution_count": 1,
      "outputs": [
        {
          "output_type": "stream",
          "text": [
            "There are 1 GPU(s) available.\n",
            "We will use the GPU: Tesla T4\n"
          ],
          "name": "stdout"
        }
      ]
    },
    {
      "cell_type": "code",
      "metadata": {
        "colab": {
          "base_uri": "https://localhost:8080/"
        },
        "id": "HP4FFiH59fen",
        "outputId": "5ce8cbfe-dbec-4226-dc6e-9340c856c8e4"
      },
      "source": [
        "!pip install transformers"
      ],
      "execution_count": 2,
      "outputs": [
        {
          "output_type": "stream",
          "text": [
            "Collecting transformers\n",
            "\u001b[?25l  Downloading https://files.pythonhosted.org/packages/ed/db/98c3ea1a78190dac41c0127a063abf92bd01b4b0b6970a6db1c2f5b66fa0/transformers-4.0.1-py3-none-any.whl (1.4MB)\n",
            "\u001b[K     |████████████████████████████████| 1.4MB 24.3MB/s \n",
            "\u001b[?25hRequirement already satisfied: packaging in /usr/local/lib/python3.6/dist-packages (from transformers) (20.7)\n",
            "Requirement already satisfied: requests in /usr/local/lib/python3.6/dist-packages (from transformers) (2.23.0)\n",
            "Requirement already satisfied: regex!=2019.12.17 in /usr/local/lib/python3.6/dist-packages (from transformers) (2019.12.20)\n",
            "Requirement already satisfied: dataclasses; python_version < \"3.7\" in /usr/local/lib/python3.6/dist-packages (from transformers) (0.8)\n",
            "Requirement already satisfied: tqdm>=4.27 in /usr/local/lib/python3.6/dist-packages (from transformers) (4.41.1)\n",
            "Collecting sacremoses\n",
            "\u001b[?25l  Downloading https://files.pythonhosted.org/packages/7d/34/09d19aff26edcc8eb2a01bed8e98f13a1537005d31e95233fd48216eed10/sacremoses-0.0.43.tar.gz (883kB)\n",
            "\u001b[K     |████████████████████████████████| 890kB 49.4MB/s \n",
            "\u001b[?25hCollecting tokenizers==0.9.4\n",
            "\u001b[?25l  Downloading https://files.pythonhosted.org/packages/0f/1c/e789a8b12e28be5bc1ce2156cf87cb522b379be9cadc7ad8091a4cc107c4/tokenizers-0.9.4-cp36-cp36m-manylinux2010_x86_64.whl (2.9MB)\n",
            "\u001b[K     |████████████████████████████████| 2.9MB 25.3MB/s \n",
            "\u001b[?25hRequirement already satisfied: numpy in /usr/local/lib/python3.6/dist-packages (from transformers) (1.18.5)\n",
            "Requirement already satisfied: filelock in /usr/local/lib/python3.6/dist-packages (from transformers) (3.0.12)\n",
            "Requirement already satisfied: pyparsing>=2.0.2 in /usr/local/lib/python3.6/dist-packages (from packaging->transformers) (2.4.7)\n",
            "Requirement already satisfied: idna<3,>=2.5 in /usr/local/lib/python3.6/dist-packages (from requests->transformers) (2.10)\n",
            "Requirement already satisfied: certifi>=2017.4.17 in /usr/local/lib/python3.6/dist-packages (from requests->transformers) (2020.12.5)\n",
            "Requirement already satisfied: chardet<4,>=3.0.2 in /usr/local/lib/python3.6/dist-packages (from requests->transformers) (3.0.4)\n",
            "Requirement already satisfied: urllib3!=1.25.0,!=1.25.1,<1.26,>=1.21.1 in /usr/local/lib/python3.6/dist-packages (from requests->transformers) (1.24.3)\n",
            "Requirement already satisfied: six in /usr/local/lib/python3.6/dist-packages (from sacremoses->transformers) (1.15.0)\n",
            "Requirement already satisfied: click in /usr/local/lib/python3.6/dist-packages (from sacremoses->transformers) (7.1.2)\n",
            "Requirement already satisfied: joblib in /usr/local/lib/python3.6/dist-packages (from sacremoses->transformers) (0.17.0)\n",
            "Building wheels for collected packages: sacremoses\n",
            "  Building wheel for sacremoses (setup.py) ... \u001b[?25l\u001b[?25hdone\n",
            "  Created wheel for sacremoses: filename=sacremoses-0.0.43-cp36-none-any.whl size=893261 sha256=62ba59fb7ad7457f29eb5c12a47718928f6400d59ca1bb6051a5d07d3e6e526d\n",
            "  Stored in directory: /root/.cache/pip/wheels/29/3c/fd/7ce5c3f0666dab31a50123635e6fb5e19ceb42ce38d4e58f45\n",
            "Successfully built sacremoses\n",
            "Installing collected packages: sacremoses, tokenizers, transformers\n",
            "Successfully installed sacremoses-0.0.43 tokenizers-0.9.4 transformers-4.0.1\n"
          ],
          "name": "stdout"
        }
      ]
    },
    {
      "cell_type": "markdown",
      "metadata": {
        "id": "0hS7T17g9p25"
      },
      "source": [
        "wget: web -> colab "
      ]
    },
    {
      "cell_type": "code",
      "metadata": {
        "colab": {
          "base_uri": "https://localhost:8080/"
        },
        "id": "p9JjQse19uGP",
        "outputId": "e9ceaae6-3d76-44e5-e4cd-f8667a9a7f44"
      },
      "source": [
        "!pip install wget"
      ],
      "execution_count": 3,
      "outputs": [
        {
          "output_type": "stream",
          "text": [
            "Collecting wget\n",
            "  Downloading https://files.pythonhosted.org/packages/47/6a/62e288da7bcda82b935ff0c6cfe542970f04e29c756b0e147251b2fb251f/wget-3.2.zip\n",
            "Building wheels for collected packages: wget\n",
            "  Building wheel for wget (setup.py) ... \u001b[?25l\u001b[?25hdone\n",
            "  Created wheel for wget: filename=wget-3.2-cp36-none-any.whl size=9681 sha256=5b9b7d34b33a580c87c4fda12b092641c29dbb46dac3dbab963c4d544603af63\n",
            "  Stored in directory: /root/.cache/pip/wheels/40/15/30/7d8f7cea2902b4db79e3fea550d7d7b85ecb27ef992b618f3f\n",
            "Successfully built wget\n",
            "Installing collected packages: wget\n",
            "Successfully installed wget-3.2\n"
          ],
          "name": "stdout"
        }
      ]
    },
    {
      "cell_type": "code",
      "metadata": {
        "colab": {
          "base_uri": "https://localhost:8080/"
        },
        "id": "bfgcBa3z9u9v",
        "outputId": "74a2e501-f605-467a-9e71-889ae62f3ee6"
      },
      "source": [
        "import wget\r\n",
        "import os\r\n",
        "\r\n",
        "print('Downloading dataset...')\r\n",
        "\r\n",
        "# The URL for the dataset zip file.\r\n",
        "url = 'https://nyu-mll.github.io/CoLA/cola_public_1.1.zip'\r\n",
        "\r\n",
        "# Download the file (if we haven't already)\r\n",
        "if not os.path.exists('./cola_public_1.1.zip'):\r\n",
        "    wget.download(url, './cola_public_1.1.zip')"
      ],
      "execution_count": 6,
      "outputs": [
        {
          "output_type": "stream",
          "text": [
            "Downloading dataset...\n"
          ],
          "name": "stdout"
        }
      ]
    },
    {
      "cell_type": "code",
      "metadata": {
        "colab": {
          "base_uri": "https://localhost:8080/"
        },
        "id": "2bXpjTBe-TtB",
        "outputId": "52312166-ec2e-4a78-9cea-a0ee662ae8b0"
      },
      "source": [
        "# Unzip the dataset (if we haven't already)\r\n",
        "if not os.path.exists('./cola_public/'):\r\n",
        "    !unzip cola_public_1.1.zip"
      ],
      "execution_count": 8,
      "outputs": [
        {
          "output_type": "stream",
          "text": [
            "Archive:  cola_public_1.1.zip\n",
            "   creating: cola_public/\n",
            "  inflating: cola_public/README      \n",
            "   creating: cola_public/tokenized/\n",
            "  inflating: cola_public/tokenized/in_domain_dev.tsv  \n",
            "  inflating: cola_public/tokenized/in_domain_train.tsv  \n",
            "  inflating: cola_public/tokenized/out_of_domain_dev.tsv  \n",
            "   creating: cola_public/raw/\n",
            "  inflating: cola_public/raw/in_domain_dev.tsv  \n",
            "  inflating: cola_public/raw/in_domain_train.tsv  \n",
            "  inflating: cola_public/raw/out_of_domain_dev.tsv  \n"
          ],
          "name": "stdout"
        }
      ]
    },
    {
      "cell_type": "markdown",
      "metadata": {
        "id": "ZO1PuarA-C1G"
      },
      "source": [
        "# Data Load & Preprocessing"
      ]
    },
    {
      "cell_type": "markdown",
      "metadata": {
        "id": "yNciLkRaQSYW"
      },
      "source": [
        "-  The Corpus of Linguistic Acceptability (CoLA) dataset for single sentence classification."
      ]
    },
    {
      "cell_type": "code",
      "metadata": {
        "colab": {
          "base_uri": "https://localhost:8080/",
          "height": 178
        },
        "id": "UBuKHK45-A2n",
        "outputId": "35c29c3c-25dc-47ac-8e39-b55190af1af3"
      },
      "source": [
        "import pandas as pd\r\n",
        "\r\n",
        "# Load the dataset into a pandas dataframe.\r\n",
        "df = pd.read_csv(\"./cola_public/raw/in_domain_train.tsv\", delimiter='\\t', header=None, names=['sentence_source', 'label', 'label_notes', 'sentence'])\r\n",
        "\r\n",
        "# Report the number of sentences.\r\n",
        "print('Number of training sentences: {:,}\\n'.format(df.shape[0]))\r\n",
        "\r\n",
        "# Display 10 random rows from the data.\r\n",
        "df.sample(3)"
      ],
      "execution_count": 15,
      "outputs": [
        {
          "output_type": "stream",
          "text": [
            "Number of training sentences: 8,551\n",
            "\n"
          ],
          "name": "stdout"
        },
        {
          "output_type": "execute_result",
          "data": {
            "text/html": [
              "<div>\n",
              "<style scoped>\n",
              "    .dataframe tbody tr th:only-of-type {\n",
              "        vertical-align: middle;\n",
              "    }\n",
              "\n",
              "    .dataframe tbody tr th {\n",
              "        vertical-align: top;\n",
              "    }\n",
              "\n",
              "    .dataframe thead th {\n",
              "        text-align: right;\n",
              "    }\n",
              "</style>\n",
              "<table border=\"1\" class=\"dataframe\">\n",
              "  <thead>\n",
              "    <tr style=\"text-align: right;\">\n",
              "      <th></th>\n",
              "      <th>sentence_source</th>\n",
              "      <th>label</th>\n",
              "      <th>label_notes</th>\n",
              "      <th>sentence</th>\n",
              "    </tr>\n",
              "  </thead>\n",
              "  <tbody>\n",
              "    <tr>\n",
              "      <th>7480</th>\n",
              "      <td>sks13</td>\n",
              "      <td>1</td>\n",
              "      <td>NaN</td>\n",
              "      <td>John did not like Mary.</td>\n",
              "    </tr>\n",
              "    <tr>\n",
              "      <th>4395</th>\n",
              "      <td>ks08</td>\n",
              "      <td>0</td>\n",
              "      <td>*</td>\n",
              "      <td>Mary not avoided Bill.</td>\n",
              "    </tr>\n",
              "    <tr>\n",
              "      <th>6637</th>\n",
              "      <td>m_02</td>\n",
              "      <td>0</td>\n",
              "      <td>*</td>\n",
              "      <td>Into Jeeves sauntered the room.</td>\n",
              "    </tr>\n",
              "  </tbody>\n",
              "</table>\n",
              "</div>"
            ],
            "text/plain": [
              "     sentence_source  label label_notes                         sentence\n",
              "7480           sks13      1         NaN          John did not like Mary.\n",
              "4395            ks08      0           *           Mary not avoided Bill.\n",
              "6637            m_02      0           *  Into Jeeves sauntered the room."
            ]
          },
          "metadata": {
            "tags": []
          },
          "execution_count": 15
        }
      ]
    },
    {
      "cell_type": "code",
      "metadata": {
        "colab": {
          "base_uri": "https://localhost:8080/"
        },
        "id": "r6kVlI8E-WeC",
        "outputId": "8beab7a9-6656-4f02-cddb-394b8a9a4afa"
      },
      "source": [
        "print(df.sentence[1])\r\n",
        "print(len(df.label_notes))"
      ],
      "execution_count": 14,
      "outputs": [
        {
          "output_type": "stream",
          "text": [
            "One more pseudo generalization and I'm giving up.\n",
            "8551\n"
          ],
          "name": "stdout"
        }
      ]
    },
    {
      "cell_type": "markdown",
      "metadata": {
        "id": "UtwJfhh5AVTm"
      },
      "source": [
        "모델 학습 시, sentences, labels만 필요하다. 아래 같이 이들을 선택하자."
      ]
    },
    {
      "cell_type": "code",
      "metadata": {
        "colab": {
          "base_uri": "https://localhost:8080/"
        },
        "id": "CWXEQP9fAhrt",
        "outputId": "aefacb74-5d5e-4b9e-a312-0c01702a8bdd"
      },
      "source": [
        "sentences = df.sentence.values\r\n",
        "labels = df.label.values\r\n",
        "print(sentences[1])\r\n",
        "print(labels[1])"
      ],
      "execution_count": 17,
      "outputs": [
        {
          "output_type": "stream",
          "text": [
            "One more pseudo generalization and I'm giving up.\n",
            "1\n"
          ],
          "name": "stdout"
        }
      ]
    },
    {
      "cell_type": "markdown",
      "metadata": {
        "id": "o6eXTeSaAqSY"
      },
      "source": [
        "## 토큰화"
      ]
    },
    {
      "cell_type": "markdown",
      "metadata": {
        "id": "NbeAVrOWC6Bm"
      },
      "source": [
        "- do_lower_case (bool, optional, defaults to True) : Whether or not to lowercase the input when tokenizing."
      ]
    },
    {
      "cell_type": "markdown",
      "metadata": {
        "id": "HzXe5gblDR8J"
      },
      "source": [
        "- tokenizing for wordpiece embedding"
      ]
    },
    {
      "cell_type": "code",
      "metadata": {
        "colab": {
          "base_uri": "https://localhost:8080/",
          "height": 67,
          "referenced_widgets": [
            "9c523916f1934508834340818347160b",
            "2b6f5f3246ac4a5687892572c92fa021",
            "c93c88138cec49ec99aab0e363339634",
            "6b276f1155364f2690b624fedb3a15c1",
            "b0381fad6d1343bf892becbc917b02c6",
            "0b6996ca8e294ad998ad2d3b8d23d079",
            "fd74c9260ee94deaa8420fbe57f95717",
            "0a9c0672340a4c14a106779415fb3593"
          ]
        },
        "id": "gSX91aQ1ApE6",
        "outputId": "e8b88e1c-a038-47d0-ddd1-6624d04af4c9"
      },
      "source": [
        "from transformers import BertTokenizer\r\n",
        "tokenizer = BertTokenizer.from_pretrained('bert-base-uncased',do_lower_case = True)\r\n"
      ],
      "execution_count": 19,
      "outputs": [
        {
          "output_type": "display_data",
          "data": {
            "application/vnd.jupyter.widget-view+json": {
              "model_id": "9c523916f1934508834340818347160b",
              "version_minor": 0,
              "version_major": 2
            },
            "text/plain": [
              "HBox(children=(FloatProgress(value=0.0, description='Downloading', max=231508.0, style=ProgressStyle(descripti…"
            ]
          },
          "metadata": {
            "tags": []
          }
        },
        {
          "output_type": "stream",
          "text": [
            "\n"
          ],
          "name": "stdout"
        }
      ]
    },
    {
      "cell_type": "markdown",
      "metadata": {
        "id": "8tYmLNcKDY5d"
      },
      "source": [
        "#### 예시"
      ]
    },
    {
      "cell_type": "code",
      "metadata": {
        "colab": {
          "base_uri": "https://localhost:8080/"
        },
        "id": "mNpl8L_9DKFS",
        "outputId": "0e82f346-04cb-4f47-9e49-4bb8eac45f24"
      },
      "source": [
        "ex = 'I want to play the game'\r\n",
        "tokenizer.tokenize(ex)"
      ],
      "execution_count": 20,
      "outputs": [
        {
          "output_type": "execute_result",
          "data": {
            "text/plain": [
              "['i', 'want', 'to', 'play', 'the', 'game']"
            ]
          },
          "metadata": {
            "tags": []
          },
          "execution_count": 20
        }
      ]
    },
    {
      "cell_type": "code",
      "metadata": {
        "colab": {
          "base_uri": "https://localhost:8080/"
        },
        "id": "AkBPZNFTDaT4",
        "outputId": "7bee179e-70c5-4ab0-f49d-e5f8e7cbcae5"
      },
      "source": [
        "print(sentences[21])\r\n",
        "print(tokenizer.tokenize(sentences[21]))\r\n",
        "print(tokenizer.convert_tokens_to_ids(tokenizer.tokenize(sentences[21])))\r\n",
        "print(labels[21])"
      ],
      "execution_count": 23,
      "outputs": [
        {
          "output_type": "stream",
          "text": [
            "We yelled ourselves hoarse.\n",
            "['we', 'yelled', 'ourselves', 'hoarse', '.']\n",
            "[2057, 7581, 9731, 21221, 1012]\n",
            "1\n"
          ],
          "name": "stdout"
        }
      ]
    },
    {
      "cell_type": "markdown",
      "metadata": {
        "id": "MPjU40inEMJj"
      },
      "source": [
        "## 전처리"
      ]
    },
    {
      "cell_type": "markdown",
      "metadata": {
        "id": "CCgjvcCtEPmO"
      },
      "source": [
        "- 1. CLS, SEP 붙이기  \r\n",
        "- 2. Padding  \r\n",
        "- 3. Vanila token과 'attention mask'가 있는 패딩 token 차이두기"
      ]
    },
    {
      "cell_type": "markdown",
      "metadata": {
        "id": "8qCS5K6PE_6w"
      },
      "source": [
        " - 데이터셋에는 여러 길이의 문장들이 있다. 버트 모델에게 이것을 처리할 수 있게 하기 위해, max_len을 설정한 뒤 패딩 처리를 한다.  \r\n",
        " -  Attention Mask는 1, 0로 이루어진 배열이고, 이것은 토큰이 패딩임과 패딩이 아님을 뜻한다. 이 Mask는 버트 메커니즘에서 \"셀프어텐션\"이 PAD 토큰을 문장의 해석에 포함시키지 않음을 뜻한다."
      ]
    },
    {
      "cell_type": "markdown",
      "metadata": {
        "id": "drQsJ0Q_F3nG"
      },
      "source": [
        "### 문장 최대 길이 구하기"
      ]
    },
    {
      "cell_type": "code",
      "metadata": {
        "colab": {
          "base_uri": "https://localhost:8080/"
        },
        "id": "sTJgTtqMEOpF",
        "outputId": "dea46bbe-3e8d-4f53-b639-db7411e6d4bc"
      },
      "source": [
        "max_len = 0\r\n",
        "for sen in sentences:\r\n",
        "    input_ids = tokenizer.encode(sen, add_special_tokens=True)\r\n",
        "    max_len = max(max_len, len(input_ids))\r\n",
        "\r\n",
        "print('가장 긴 문장 길이:',max_len)"
      ],
      "execution_count": 27,
      "outputs": [
        {
          "output_type": "stream",
          "text": [
            "가장 긴 문장 길이: 47\n"
          ],
          "name": "stdout"
        }
      ]
    },
    {
      "cell_type": "markdown",
      "metadata": {
        "id": "5IKfTqtZGYDw"
      },
      "source": [
        "### 패딩, CLS/SEP 첨가, 마스킹"
      ]
    },
    {
      "cell_type": "markdown",
      "metadata": {
        "id": "NOO0UVShJf4s"
      },
      "source": [
        "- return_tensors (str or TensorType, optional) –\r\n",
        "\r\n",
        "    - If set, will return tensors instead of list of python integers. Acceptable values are:\r\n",
        "\r\n",
        "    - 'tf': Return TensorFlow tf.constant objects.\r\n",
        "\r\n",
        "    - 'pt': Return PyTorch torch.Tensor objects.\r\n",
        "\r\n",
        "    - 'np': Return Numpy np.ndarray objects.  \r\n",
        "      \r\n",
        "https://huggingface.co/transformers/main_classes/tokenizer.html"
      ]
    },
    {
      "cell_type": "code",
      "metadata": {
        "colab": {
          "base_uri": "https://localhost:8080/"
        },
        "id": "7U6DgI9QGfpp",
        "outputId": "bd4f77ef-31a9-4b95-f5d2-6e5d6babdbb4"
      },
      "source": [
        "input_ids = []\r\n",
        "attention_masks = []\r\n",
        "\r\n",
        "\"\"\"\r\n",
        "문장집합 내의 각 문장에 대하여, 패딩+CLS/SEP첨가+마스킹 작업을 해준다.\r\n",
        "\"\"\"\r\n",
        "for sen in sentences:\r\n",
        "    encoded_sen = tokenizer.encode_plus(sen,add_special_tokens=True,max_length=50,return_attention_mask=True,return_tensors='pt', pad_to_max_length = True) # 'pt' = pytorch's tensor\r\n",
        "    input_ids.append(encoded_sen['input_ids']) # 이 같이 입력 아이디를 특정하지 않으면, token_type_ids, attn_mask도 출력된다.\r\n",
        "    attention_masks.append(encoded_sen['attention_mask']) \r\n",
        "    \"\"\"\r\n",
        "    9, 10번 출력 예:\r\n",
        "    'input_ids': tensor([[  101,  2028,  2062, 18404,  2236,  3989,  1998,  1045,  1005,  1049,\r\n",
        "          3228,  2039,  1012,   102,     0,     0,     0,     0,     0,     0,\r\n",
        "             0,     0,     0,     0,     0,     0,     0,     0,     0,     0,\r\n",
        "             0,     0,     0,     0,     0,     0,     0,     0,     0,     0,\r\n",
        "             0,     0,     0,     0,     0,     0,     0,     0,     0,     0]\r\n",
        "\r\n",
        "     'attention_mask': tensor([[1, 1, 1, 1, 1, 1, 1, 1, 1, 1, 1, 1, 1, 1, 0, 0, 0, 0, 0, 0, 0, 0, 0, 0,\r\n",
        "         0, 0, 0, 0, 0, 0, 0, 0, 0, 0, 0, 0, 0, 0, 0, 0, 0, 0, 0, 0, 0, 0, 0, 0,\r\n",
        "         0, 0]] \r\n",
        "\r\n",
        "    \"\"\"\r\n",
        "print(len(input_ids))\r\n",
        "print(len(attention_masks))    "
      ],
      "execution_count": 36,
      "outputs": [
        {
          "output_type": "stream",
          "text": [
            "/usr/local/lib/python3.6/dist-packages/transformers/tokenization_utils_base.py:2142: FutureWarning: The `pad_to_max_length` argument is deprecated and will be removed in a future version, use `padding=True` or `padding='longest'` to pad to the longest sequence in the batch, or use `padding='max_length'` to pad to a max length. In this case, you can give a specific length with `max_length` (e.g. `max_length=45`) or leave max_length to None to pad to the maximal input size of the model (e.g. 512 for Bert).\n",
            "  FutureWarning,\n"
          ],
          "name": "stderr"
        },
        {
          "output_type": "stream",
          "text": [
            "8551\n",
            "8551\n"
          ],
          "name": "stdout"
        }
      ]
    },
    {
      "cell_type": "code",
      "metadata": {
        "colab": {
          "base_uri": "https://localhost:8080/"
        },
        "id": "R7l-kVDCNFP1",
        "outputId": "e22b7aa1-3f9e-484d-ad35-cb1c8901868b"
      },
      "source": [
        "input_ids[0]"
      ],
      "execution_count": 37,
      "outputs": [
        {
          "output_type": "execute_result",
          "data": {
            "text/plain": [
              "tensor([[  101,  2256,  2814,  2180,  1005,  1056,  4965,  2023,  4106,  1010,\n",
              "          2292,  2894,  1996,  2279,  2028,  2057, 16599,  1012,   102,     0,\n",
              "             0,     0,     0,     0,     0,     0,     0,     0,     0,     0,\n",
              "             0,     0,     0,     0,     0,     0,     0,     0,     0,     0,\n",
              "             0,     0,     0,     0,     0,     0,     0,     0,     0,     0]])"
            ]
          },
          "metadata": {
            "tags": []
          },
          "execution_count": 37
        }
      ]
    },
    {
      "cell_type": "code",
      "metadata": {
        "colab": {
          "base_uri": "https://localhost:8080/"
        },
        "id": "VKaqxguUMtvr",
        "outputId": "cc27b3ea-6152-450b-b356-d70b33562f93"
      },
      "source": [
        "input_ids = torch.cat(input_ids,dim=0)\r\n",
        "print(len(input_ids))\r\n",
        "attention_masks = torch.cat(attention_masks, dim=0)\r\n",
        "print(len(labels))\r\n",
        "labels = torch.tensor(labels)\r\n",
        "print(input_ids[0])"
      ],
      "execution_count": 38,
      "outputs": [
        {
          "output_type": "stream",
          "text": [
            "8551\n",
            "8551\n",
            "tensor([  101,  2256,  2814,  2180,  1005,  1056,  4965,  2023,  4106,  1010,\n",
            "         2292,  2894,  1996,  2279,  2028,  2057, 16599,  1012,   102,     0,\n",
            "            0,     0,     0,     0,     0,     0,     0,     0,     0,     0,\n",
            "            0,     0,     0,     0,     0,     0,     0,     0,     0,     0,\n",
            "            0,     0,     0,     0,     0,     0,     0,     0,     0,     0])\n"
          ],
          "name": "stdout"
        },
        {
          "output_type": "stream",
          "text": [
            "/usr/local/lib/python3.6/dist-packages/ipykernel_launcher.py:5: UserWarning: To copy construct from a tensor, it is recommended to use sourceTensor.clone().detach() or sourceTensor.clone().detach().requires_grad_(True), rather than torch.tensor(sourceTensor).\n",
            "  \"\"\"\n"
          ],
          "name": "stderr"
        }
      ]
    },
    {
      "cell_type": "markdown",
      "metadata": {
        "id": "bP-NK_vYNP9a"
      },
      "source": [
        "## 학습셋, 검증셋 분리"
      ]
    },
    {
      "cell_type": "markdown",
      "metadata": {
        "id": "_8OXJ75GNrRV"
      },
      "source": [
        "- TensorDataset은 인코딩된 문장집합을 (입력 문장 개수, 최대 문장 개수) 사이즈로 데이터셋을 만들어준다."
      ]
    },
    {
      "cell_type": "code",
      "metadata": {
        "colab": {
          "base_uri": "https://localhost:8080/"
        },
        "id": "3gOlRIfINR9D",
        "outputId": "3ee32ece-8e06-4a21-8a27-74b15ae22893"
      },
      "source": [
        "from torch.utils.data import TensorDataset, random_split\r\n",
        "\r\n",
        "#dataset = TensorDataset(input_ids, labels)\r\n",
        "#dataset.tensors[0].size()"
      ],
      "execution_count": 45,
      "outputs": [
        {
          "output_type": "execute_result",
          "data": {
            "text/plain": [
              "torch.Size([8551, 50])"
            ]
          },
          "metadata": {
            "tags": []
          },
          "execution_count": 45
        }
      ]
    },
    {
      "cell_type": "markdown",
      "metadata": {
        "id": "3LmR1EwEN9hy"
      },
      "source": [
        "실제 사용할 코드는 아래의 것이다. 여기서 우리는 어텐션 마스킹도 첨가한다."
      ]
    },
    {
      "cell_type": "code",
      "metadata": {
        "colab": {
          "base_uri": "https://localhost:8080/"
        },
        "id": "RhX9GP9kNDbL",
        "outputId": "12ab6ffb-7f75-4658-b8b8-3e21c122cf6b"
      },
      "source": [
        "dataset = TensorDataset(input_ids, attention_masks, labels)\r\n",
        "\r\n",
        "train_size = int(0.8*len(dataset))\r\n",
        "val_size = len(dataset)-train_size\r\n",
        "\r\n",
        "train_dataset, val_dataset = random_split(dataset,[train_size,val_size])\r\n",
        "\r\n",
        "print(f'학습셋 크기: {train_size}   검증셋 크기: {val_size}')"
      ],
      "execution_count": 47,
      "outputs": [
        {
          "output_type": "stream",
          "text": [
            "학습셋 크기: 6840   검증셋 크기: 1711\n"
          ],
          "name": "stdout"
        }
      ]
    },
    {
      "cell_type": "markdown",
      "metadata": {
        "id": "aeQqeu9VOrkP"
      },
      "source": [
        "- DataLoader: 데이터셋을 배치 단위로 만들어줘서 모델이 학습하기에 용이하게 해준다.  \r\n",
        "- RandomSampler: 데이터로더가 배치를 랜덤하게 선택하게 해준다.  \r\n",
        "- SequentialSampler: 데이터로더가 배치를 연속적으로 선택하게 해준다."
      ]
    },
    {
      "cell_type": "code",
      "metadata": {
        "id": "M4ZKcQnkPAqM"
      },
      "source": [
        "from torch.utils.data import DataLoader, RandomSampler, SequentialSampler\r\n",
        "\r\n",
        "BATCH_SIZE = 16\r\n",
        "\r\n",
        "train_loader = DataLoader(train_dataset, sampler = RandomSampler(train_dataset), batch_size = BATCH_SIZE)\r\n",
        "valid_loader = DataLoader(val_dataset, sampler = SequentialSampler(val_dataset), batch_size = BATCH_SIZE)"
      ],
      "execution_count": 61,
      "outputs": []
    },
    {
      "cell_type": "markdown",
      "metadata": {
        "id": "Jw-5gBMnP_NW"
      },
      "source": [
        "데이터로더 안에 들어있는 것"
      ]
    },
    {
      "cell_type": "code",
      "metadata": {
        "colab": {
          "base_uri": "https://localhost:8080/"
        },
        "id": "V5bqwK5kPoEH",
        "outputId": "c05adadd-3704-40cf-e354-98e41165189a"
      },
      "source": [
        "print(type(train_loader.dataset.dataset.tensors))\r\n",
        "print(len(train_loader.dataset.dataset.tensors))\r\n",
        "print(train_loader.batch_size)\r\n",
        "print(train_loader.dataset.dataset.tensors[0].size())\r\n",
        "print(train_loader.dataset.dataset.tensors[1].size())\r\n",
        "print(train_loader.dataset.dataset.tensors[2].size())"
      ],
      "execution_count": 62,
      "outputs": [
        {
          "output_type": "stream",
          "text": [
            "<class 'tuple'>\n",
            "3\n",
            "16\n",
            "torch.Size([8551, 50])\n",
            "torch.Size([8551, 50])\n",
            "torch.Size([8551])\n"
          ],
          "name": "stdout"
        }
      ]
    },
    {
      "cell_type": "markdown",
      "metadata": {
        "id": "fYeQ7oebQZUv"
      },
      "source": [
        "# 모델"
      ]
    },
    {
      "cell_type": "markdown",
      "metadata": {
        "id": "FbbkLhB5R3xV"
      },
      "source": [
        "- [AdamW에 대한 설명]('https://hiddenbeginner.github.io/deeplearning/paperreview/2019/12/29/paper_review_AdamW.html')"
      ]
    },
    {
      "cell_type": "code",
      "metadata": {
        "colab": {
          "base_uri": "https://localhost:8080/"
        },
        "id": "9Bc2emMRQaov",
        "outputId": "74d2fca7-4cbe-4b5c-e624-a7a3a8ac33e1"
      },
      "source": [
        "from transformers import BertForSequenceClassification, AdamW, BertConfig\r\n",
        "\r\n",
        "model = BertForSequenceClassification.from_pretrained(\"bert-base-uncased\", \r\n",
        "                                                      num_labels = 2, # 우리는 문장을 긍부정으로 나누는 이진 분류를 수행\r\n",
        "                                                      output_attentions = False,\r\n",
        "                                                      output_hidden_states = False)\r\n",
        "\r\n",
        "model.cuda() # 모델을 GPU로 돌리게 함"
      ],
      "execution_count": 60,
      "outputs": [
        {
          "output_type": "stream",
          "text": [
            "Some weights of the model checkpoint at bert-base-uncased were not used when initializing BertForSequenceClassification: ['cls.predictions.bias', 'cls.predictions.transform.dense.weight', 'cls.predictions.transform.dense.bias', 'cls.predictions.decoder.weight', 'cls.seq_relationship.weight', 'cls.seq_relationship.bias', 'cls.predictions.transform.LayerNorm.weight', 'cls.predictions.transform.LayerNorm.bias']\n",
            "- This IS expected if you are initializing BertForSequenceClassification from the checkpoint of a model trained on another task or with another architecture (e.g. initializing a BertForSequenceClassification model from a BertForPreTraining model).\n",
            "- This IS NOT expected if you are initializing BertForSequenceClassification from the checkpoint of a model that you expect to be exactly identical (initializing a BertForSequenceClassification model from a BertForSequenceClassification model).\n",
            "Some weights of BertForSequenceClassification were not initialized from the model checkpoint at bert-base-uncased and are newly initialized: ['classifier.weight', 'classifier.bias']\n",
            "You should probably TRAIN this model on a down-stream task to be able to use it for predictions and inference.\n"
          ],
          "name": "stderr"
        },
        {
          "output_type": "execute_result",
          "data": {
            "text/plain": [
              "BertForSequenceClassification(\n",
              "  (bert): BertModel(\n",
              "    (embeddings): BertEmbeddings(\n",
              "      (word_embeddings): Embedding(30522, 768, padding_idx=0)\n",
              "      (position_embeddings): Embedding(512, 768)\n",
              "      (token_type_embeddings): Embedding(2, 768)\n",
              "      (LayerNorm): LayerNorm((768,), eps=1e-12, elementwise_affine=True)\n",
              "      (dropout): Dropout(p=0.1, inplace=False)\n",
              "    )\n",
              "    (encoder): BertEncoder(\n",
              "      (layer): ModuleList(\n",
              "        (0): BertLayer(\n",
              "          (attention): BertAttention(\n",
              "            (self): BertSelfAttention(\n",
              "              (query): Linear(in_features=768, out_features=768, bias=True)\n",
              "              (key): Linear(in_features=768, out_features=768, bias=True)\n",
              "              (value): Linear(in_features=768, out_features=768, bias=True)\n",
              "              (dropout): Dropout(p=0.1, inplace=False)\n",
              "            )\n",
              "            (output): BertSelfOutput(\n",
              "              (dense): Linear(in_features=768, out_features=768, bias=True)\n",
              "              (LayerNorm): LayerNorm((768,), eps=1e-12, elementwise_affine=True)\n",
              "              (dropout): Dropout(p=0.1, inplace=False)\n",
              "            )\n",
              "          )\n",
              "          (intermediate): BertIntermediate(\n",
              "            (dense): Linear(in_features=768, out_features=3072, bias=True)\n",
              "          )\n",
              "          (output): BertOutput(\n",
              "            (dense): Linear(in_features=3072, out_features=768, bias=True)\n",
              "            (LayerNorm): LayerNorm((768,), eps=1e-12, elementwise_affine=True)\n",
              "            (dropout): Dropout(p=0.1, inplace=False)\n",
              "          )\n",
              "        )\n",
              "        (1): BertLayer(\n",
              "          (attention): BertAttention(\n",
              "            (self): BertSelfAttention(\n",
              "              (query): Linear(in_features=768, out_features=768, bias=True)\n",
              "              (key): Linear(in_features=768, out_features=768, bias=True)\n",
              "              (value): Linear(in_features=768, out_features=768, bias=True)\n",
              "              (dropout): Dropout(p=0.1, inplace=False)\n",
              "            )\n",
              "            (output): BertSelfOutput(\n",
              "              (dense): Linear(in_features=768, out_features=768, bias=True)\n",
              "              (LayerNorm): LayerNorm((768,), eps=1e-12, elementwise_affine=True)\n",
              "              (dropout): Dropout(p=0.1, inplace=False)\n",
              "            )\n",
              "          )\n",
              "          (intermediate): BertIntermediate(\n",
              "            (dense): Linear(in_features=768, out_features=3072, bias=True)\n",
              "          )\n",
              "          (output): BertOutput(\n",
              "            (dense): Linear(in_features=3072, out_features=768, bias=True)\n",
              "            (LayerNorm): LayerNorm((768,), eps=1e-12, elementwise_affine=True)\n",
              "            (dropout): Dropout(p=0.1, inplace=False)\n",
              "          )\n",
              "        )\n",
              "        (2): BertLayer(\n",
              "          (attention): BertAttention(\n",
              "            (self): BertSelfAttention(\n",
              "              (query): Linear(in_features=768, out_features=768, bias=True)\n",
              "              (key): Linear(in_features=768, out_features=768, bias=True)\n",
              "              (value): Linear(in_features=768, out_features=768, bias=True)\n",
              "              (dropout): Dropout(p=0.1, inplace=False)\n",
              "            )\n",
              "            (output): BertSelfOutput(\n",
              "              (dense): Linear(in_features=768, out_features=768, bias=True)\n",
              "              (LayerNorm): LayerNorm((768,), eps=1e-12, elementwise_affine=True)\n",
              "              (dropout): Dropout(p=0.1, inplace=False)\n",
              "            )\n",
              "          )\n",
              "          (intermediate): BertIntermediate(\n",
              "            (dense): Linear(in_features=768, out_features=3072, bias=True)\n",
              "          )\n",
              "          (output): BertOutput(\n",
              "            (dense): Linear(in_features=3072, out_features=768, bias=True)\n",
              "            (LayerNorm): LayerNorm((768,), eps=1e-12, elementwise_affine=True)\n",
              "            (dropout): Dropout(p=0.1, inplace=False)\n",
              "          )\n",
              "        )\n",
              "        (3): BertLayer(\n",
              "          (attention): BertAttention(\n",
              "            (self): BertSelfAttention(\n",
              "              (query): Linear(in_features=768, out_features=768, bias=True)\n",
              "              (key): Linear(in_features=768, out_features=768, bias=True)\n",
              "              (value): Linear(in_features=768, out_features=768, bias=True)\n",
              "              (dropout): Dropout(p=0.1, inplace=False)\n",
              "            )\n",
              "            (output): BertSelfOutput(\n",
              "              (dense): Linear(in_features=768, out_features=768, bias=True)\n",
              "              (LayerNorm): LayerNorm((768,), eps=1e-12, elementwise_affine=True)\n",
              "              (dropout): Dropout(p=0.1, inplace=False)\n",
              "            )\n",
              "          )\n",
              "          (intermediate): BertIntermediate(\n",
              "            (dense): Linear(in_features=768, out_features=3072, bias=True)\n",
              "          )\n",
              "          (output): BertOutput(\n",
              "            (dense): Linear(in_features=3072, out_features=768, bias=True)\n",
              "            (LayerNorm): LayerNorm((768,), eps=1e-12, elementwise_affine=True)\n",
              "            (dropout): Dropout(p=0.1, inplace=False)\n",
              "          )\n",
              "        )\n",
              "        (4): BertLayer(\n",
              "          (attention): BertAttention(\n",
              "            (self): BertSelfAttention(\n",
              "              (query): Linear(in_features=768, out_features=768, bias=True)\n",
              "              (key): Linear(in_features=768, out_features=768, bias=True)\n",
              "              (value): Linear(in_features=768, out_features=768, bias=True)\n",
              "              (dropout): Dropout(p=0.1, inplace=False)\n",
              "            )\n",
              "            (output): BertSelfOutput(\n",
              "              (dense): Linear(in_features=768, out_features=768, bias=True)\n",
              "              (LayerNorm): LayerNorm((768,), eps=1e-12, elementwise_affine=True)\n",
              "              (dropout): Dropout(p=0.1, inplace=False)\n",
              "            )\n",
              "          )\n",
              "          (intermediate): BertIntermediate(\n",
              "            (dense): Linear(in_features=768, out_features=3072, bias=True)\n",
              "          )\n",
              "          (output): BertOutput(\n",
              "            (dense): Linear(in_features=3072, out_features=768, bias=True)\n",
              "            (LayerNorm): LayerNorm((768,), eps=1e-12, elementwise_affine=True)\n",
              "            (dropout): Dropout(p=0.1, inplace=False)\n",
              "          )\n",
              "        )\n",
              "        (5): BertLayer(\n",
              "          (attention): BertAttention(\n",
              "            (self): BertSelfAttention(\n",
              "              (query): Linear(in_features=768, out_features=768, bias=True)\n",
              "              (key): Linear(in_features=768, out_features=768, bias=True)\n",
              "              (value): Linear(in_features=768, out_features=768, bias=True)\n",
              "              (dropout): Dropout(p=0.1, inplace=False)\n",
              "            )\n",
              "            (output): BertSelfOutput(\n",
              "              (dense): Linear(in_features=768, out_features=768, bias=True)\n",
              "              (LayerNorm): LayerNorm((768,), eps=1e-12, elementwise_affine=True)\n",
              "              (dropout): Dropout(p=0.1, inplace=False)\n",
              "            )\n",
              "          )\n",
              "          (intermediate): BertIntermediate(\n",
              "            (dense): Linear(in_features=768, out_features=3072, bias=True)\n",
              "          )\n",
              "          (output): BertOutput(\n",
              "            (dense): Linear(in_features=3072, out_features=768, bias=True)\n",
              "            (LayerNorm): LayerNorm((768,), eps=1e-12, elementwise_affine=True)\n",
              "            (dropout): Dropout(p=0.1, inplace=False)\n",
              "          )\n",
              "        )\n",
              "        (6): BertLayer(\n",
              "          (attention): BertAttention(\n",
              "            (self): BertSelfAttention(\n",
              "              (query): Linear(in_features=768, out_features=768, bias=True)\n",
              "              (key): Linear(in_features=768, out_features=768, bias=True)\n",
              "              (value): Linear(in_features=768, out_features=768, bias=True)\n",
              "              (dropout): Dropout(p=0.1, inplace=False)\n",
              "            )\n",
              "            (output): BertSelfOutput(\n",
              "              (dense): Linear(in_features=768, out_features=768, bias=True)\n",
              "              (LayerNorm): LayerNorm((768,), eps=1e-12, elementwise_affine=True)\n",
              "              (dropout): Dropout(p=0.1, inplace=False)\n",
              "            )\n",
              "          )\n",
              "          (intermediate): BertIntermediate(\n",
              "            (dense): Linear(in_features=768, out_features=3072, bias=True)\n",
              "          )\n",
              "          (output): BertOutput(\n",
              "            (dense): Linear(in_features=3072, out_features=768, bias=True)\n",
              "            (LayerNorm): LayerNorm((768,), eps=1e-12, elementwise_affine=True)\n",
              "            (dropout): Dropout(p=0.1, inplace=False)\n",
              "          )\n",
              "        )\n",
              "        (7): BertLayer(\n",
              "          (attention): BertAttention(\n",
              "            (self): BertSelfAttention(\n",
              "              (query): Linear(in_features=768, out_features=768, bias=True)\n",
              "              (key): Linear(in_features=768, out_features=768, bias=True)\n",
              "              (value): Linear(in_features=768, out_features=768, bias=True)\n",
              "              (dropout): Dropout(p=0.1, inplace=False)\n",
              "            )\n",
              "            (output): BertSelfOutput(\n",
              "              (dense): Linear(in_features=768, out_features=768, bias=True)\n",
              "              (LayerNorm): LayerNorm((768,), eps=1e-12, elementwise_affine=True)\n",
              "              (dropout): Dropout(p=0.1, inplace=False)\n",
              "            )\n",
              "          )\n",
              "          (intermediate): BertIntermediate(\n",
              "            (dense): Linear(in_features=768, out_features=3072, bias=True)\n",
              "          )\n",
              "          (output): BertOutput(\n",
              "            (dense): Linear(in_features=3072, out_features=768, bias=True)\n",
              "            (LayerNorm): LayerNorm((768,), eps=1e-12, elementwise_affine=True)\n",
              "            (dropout): Dropout(p=0.1, inplace=False)\n",
              "          )\n",
              "        )\n",
              "        (8): BertLayer(\n",
              "          (attention): BertAttention(\n",
              "            (self): BertSelfAttention(\n",
              "              (query): Linear(in_features=768, out_features=768, bias=True)\n",
              "              (key): Linear(in_features=768, out_features=768, bias=True)\n",
              "              (value): Linear(in_features=768, out_features=768, bias=True)\n",
              "              (dropout): Dropout(p=0.1, inplace=False)\n",
              "            )\n",
              "            (output): BertSelfOutput(\n",
              "              (dense): Linear(in_features=768, out_features=768, bias=True)\n",
              "              (LayerNorm): LayerNorm((768,), eps=1e-12, elementwise_affine=True)\n",
              "              (dropout): Dropout(p=0.1, inplace=False)\n",
              "            )\n",
              "          )\n",
              "          (intermediate): BertIntermediate(\n",
              "            (dense): Linear(in_features=768, out_features=3072, bias=True)\n",
              "          )\n",
              "          (output): BertOutput(\n",
              "            (dense): Linear(in_features=3072, out_features=768, bias=True)\n",
              "            (LayerNorm): LayerNorm((768,), eps=1e-12, elementwise_affine=True)\n",
              "            (dropout): Dropout(p=0.1, inplace=False)\n",
              "          )\n",
              "        )\n",
              "        (9): BertLayer(\n",
              "          (attention): BertAttention(\n",
              "            (self): BertSelfAttention(\n",
              "              (query): Linear(in_features=768, out_features=768, bias=True)\n",
              "              (key): Linear(in_features=768, out_features=768, bias=True)\n",
              "              (value): Linear(in_features=768, out_features=768, bias=True)\n",
              "              (dropout): Dropout(p=0.1, inplace=False)\n",
              "            )\n",
              "            (output): BertSelfOutput(\n",
              "              (dense): Linear(in_features=768, out_features=768, bias=True)\n",
              "              (LayerNorm): LayerNorm((768,), eps=1e-12, elementwise_affine=True)\n",
              "              (dropout): Dropout(p=0.1, inplace=False)\n",
              "            )\n",
              "          )\n",
              "          (intermediate): BertIntermediate(\n",
              "            (dense): Linear(in_features=768, out_features=3072, bias=True)\n",
              "          )\n",
              "          (output): BertOutput(\n",
              "            (dense): Linear(in_features=3072, out_features=768, bias=True)\n",
              "            (LayerNorm): LayerNorm((768,), eps=1e-12, elementwise_affine=True)\n",
              "            (dropout): Dropout(p=0.1, inplace=False)\n",
              "          )\n",
              "        )\n",
              "        (10): BertLayer(\n",
              "          (attention): BertAttention(\n",
              "            (self): BertSelfAttention(\n",
              "              (query): Linear(in_features=768, out_features=768, bias=True)\n",
              "              (key): Linear(in_features=768, out_features=768, bias=True)\n",
              "              (value): Linear(in_features=768, out_features=768, bias=True)\n",
              "              (dropout): Dropout(p=0.1, inplace=False)\n",
              "            )\n",
              "            (output): BertSelfOutput(\n",
              "              (dense): Linear(in_features=768, out_features=768, bias=True)\n",
              "              (LayerNorm): LayerNorm((768,), eps=1e-12, elementwise_affine=True)\n",
              "              (dropout): Dropout(p=0.1, inplace=False)\n",
              "            )\n",
              "          )\n",
              "          (intermediate): BertIntermediate(\n",
              "            (dense): Linear(in_features=768, out_features=3072, bias=True)\n",
              "          )\n",
              "          (output): BertOutput(\n",
              "            (dense): Linear(in_features=3072, out_features=768, bias=True)\n",
              "            (LayerNorm): LayerNorm((768,), eps=1e-12, elementwise_affine=True)\n",
              "            (dropout): Dropout(p=0.1, inplace=False)\n",
              "          )\n",
              "        )\n",
              "        (11): BertLayer(\n",
              "          (attention): BertAttention(\n",
              "            (self): BertSelfAttention(\n",
              "              (query): Linear(in_features=768, out_features=768, bias=True)\n",
              "              (key): Linear(in_features=768, out_features=768, bias=True)\n",
              "              (value): Linear(in_features=768, out_features=768, bias=True)\n",
              "              (dropout): Dropout(p=0.1, inplace=False)\n",
              "            )\n",
              "            (output): BertSelfOutput(\n",
              "              (dense): Linear(in_features=768, out_features=768, bias=True)\n",
              "              (LayerNorm): LayerNorm((768,), eps=1e-12, elementwise_affine=True)\n",
              "              (dropout): Dropout(p=0.1, inplace=False)\n",
              "            )\n",
              "          )\n",
              "          (intermediate): BertIntermediate(\n",
              "            (dense): Linear(in_features=768, out_features=3072, bias=True)\n",
              "          )\n",
              "          (output): BertOutput(\n",
              "            (dense): Linear(in_features=3072, out_features=768, bias=True)\n",
              "            (LayerNorm): LayerNorm((768,), eps=1e-12, elementwise_affine=True)\n",
              "            (dropout): Dropout(p=0.1, inplace=False)\n",
              "          )\n",
              "        )\n",
              "      )\n",
              "    )\n",
              "    (pooler): BertPooler(\n",
              "      (dense): Linear(in_features=768, out_features=768, bias=True)\n",
              "      (activation): Tanh()\n",
              "    )\n",
              "  )\n",
              "  (dropout): Dropout(p=0.1, inplace=False)\n",
              "  (classifier): Linear(in_features=768, out_features=2, bias=True)\n",
              ")"
            ]
          },
          "metadata": {
            "tags": []
          },
          "execution_count": 60
        }
      ]
    },
    {
      "cell_type": "markdown",
      "metadata": {
        "id": "ju1aHZyaSz4P"
      },
      "source": [
        "# 훈련"
      ]
    },
    {
      "cell_type": "markdown",
      "metadata": {
        "id": "A5VwmRQGRTwq"
      },
      "source": [
        "**Bert 원문에서 저자가 미세 조정fine-tuning 시 추천하는 값들**\r\n",
        "\r\n",
        "- Batch size: 16, 32\r\n",
        "- Learning rate (Adam): 5e-5, 3e-5, 2e-5\r\n",
        "- Number of epochs: 2, 3, 4  \r\n",
        "    - 우리는 차례로 16, 2e-5, 3를 선택"
      ]
    },
    {
      "cell_type": "code",
      "metadata": {
        "id": "1SyiHpeNThrS"
      },
      "source": [
        "optimizer = AdamW(model.parameters(),\r\n",
        "                  lr = 2e-5,\r\n",
        "                  eps = 1e-8) # eps는 0으로 나누는 오류를 피하기 위해 사용"
      ],
      "execution_count": 93,
      "outputs": []
    },
    {
      "cell_type": "markdown",
      "metadata": {
        "id": "3D0lddG5Vn0L"
      },
      "source": [
        "[스케줄러 관한 자료]('https://www.python2.net/questions-699125.html')"
      ]
    },
    {
      "cell_type": "code",
      "metadata": {
        "id": "ile70RfYTuEs"
      },
      "source": [
        "from transformers import get_linear_schedule_with_warmup\r\n",
        "\r\n",
        "EPOCHS = 3\r\n",
        "total_steps = len(train_loader)*EPOCHS\r\n",
        "\r\n",
        "scheduler = get_linear_schedule_with_warmup(optimizer,num_training_steps=EPOCHS,num_warmup_steps=0) # num_warmup_steps는 디폴트값. 즉 2 개의 에폭을 돌리기 위해 따로 워밍업은 안하겠다."
      ],
      "execution_count": 94,
      "outputs": []
    },
    {
      "cell_type": "code",
      "metadata": {
        "colab": {
          "base_uri": "https://localhost:8080/"
        },
        "id": "7eR9UdDCRbgD",
        "outputId": "3dd9f7ed-f7df-4b14-a5d3-4d6a2d496562"
      },
      "source": [
        "import random\r\n",
        "import numpy as np\r\n",
        "\r\n",
        "seed_val = 2020\r\n",
        "\r\n",
        "random.seed(seed_val)\r\n",
        "np.random.seed(seed_val)\r\n",
        "torch.manual_seed(seed_val)\r\n",
        "torch.cuda.manual_seed_all(seed_val)\r\n",
        "\r\n",
        "training_stats = []\r\n",
        "steps = []\r\n",
        "losses = []\r\n",
        "\r\n",
        "\r\n",
        "for epoch in range(0, EPOCHS):\r\n",
        "\r\n",
        "    total_train_loss = 0 # 매 에폭마다 초기화\r\n",
        "    model.train() # mode train\r\n",
        "\r\n",
        "    for step, batch in enumerate(train_loader):\r\n",
        "\r\n",
        "        if step % 10 ==0 & step != 0:\r\n",
        "            print('  Batch {:>5,}  of  {:>5,}.'.format(step, len(train_loader)))\r\n",
        "\r\n",
        "        \"\"\"\r\n",
        "        위에서 확인했듯이, train_loader는 3 개의 원소로 구성된 튜플이다.\r\n",
        "        이것은 각각 \r\n",
        "        \r\n",
        "        train_loader[0] = input_ids\r\n",
        "        train_loader[1] = attention_mask\r\n",
        "        train_loader[2] = labels\r\n",
        "        를 담고 있다.\r\n",
        "        \"\"\"\r\n",
        "\r\n",
        "        batch_input_ids = batch[0].to(device) # gpu로 돌리려고\r\n",
        "        batch_input_mask = batch[1].to(device)\r\n",
        "        batch_labels = batch[2].to(device)\r\n",
        "\r\n",
        "        model.zero_grad()\r\n",
        "        # 아래 모델의 결과는 (loss, logits)의 튜플 형식\r\n",
        "        result = model(batch_input_ids,\r\n",
        "              token_type_ids = None, # Segment token indices to indicate first and second portions of the inputs. Indices are selected in [0, 1]\r\n",
        "              attention_mask = batch_input_mask,\r\n",
        "              labels = batch_labels) # 모델 설명: https://huggingface.co/transformers/v2.2.0/model_doc/bert.html#transformers.BertForSequenceClassification \r\n",
        "\r\n",
        "        # 위 모델에 담은 것들은 우리가 dataset에서 담은 것들이다: dataset = TensorDataset(input_ids, attention_masks, labels)\r\n",
        "        loss, logits = result[0], result[1]\r\n",
        "        total_train_loss += loss.item()\r\n",
        "        \r\n",
        "        losses.append(loss.item())\r\n",
        "        steps.append(step)\r\n",
        "        \r\n",
        "        loss.backward()\r\n",
        "        torch.nn.utils.clip_grad_norm_(model.parameters(),1.0) # grad explosion 방지 (optional)\r\n",
        "        optimizer.step()\r\n",
        "\r\n",
        "        # 스케줄러 업데이트\r\n",
        "        scheduler.step()\r\n",
        "        if step % 10 ==0:\r\n",
        "            print(f'step: {step}    loss: {round(loss.item(),4)}')\r\n",
        "    avg_training_loss = total_train_loss/len(train_loader)\r\n",
        "\r\n",
        "    training_stats.append({\r\n",
        "        'epoch': epoch + 1,\r\n",
        "        'Training Loss': avg_training_loss})\r\n",
        "\r\n",
        "    print(f'\\n============avg_training_loss:  {avg_training_loss}============\\n')\r\n",
        "\r\n",
        "print('학습 끝 ^^')"
      ],
      "execution_count": 95,
      "outputs": [
        {
          "output_type": "stream",
          "text": [
            "step: 0    loss: 0.4807\n",
            "step: 10    loss: 0.6652\n",
            "step: 20    loss: 0.6378\n",
            "step: 30    loss: 0.5498\n",
            "step: 40    loss: 0.6081\n",
            "step: 50    loss: 0.6596\n",
            "step: 60    loss: 0.6293\n",
            "step: 70    loss: 0.649\n",
            "step: 80    loss: 0.5996\n",
            "step: 90    loss: 0.646\n",
            "step: 100    loss: 0.5586\n",
            "step: 110    loss: 0.6912\n",
            "step: 120    loss: 0.5785\n",
            "step: 130    loss: 0.7614\n",
            "step: 140    loss: 0.5319\n",
            "step: 150    loss: 0.5909\n",
            "step: 160    loss: 0.4997\n",
            "step: 170    loss: 0.7436\n",
            "step: 180    loss: 0.7286\n",
            "step: 190    loss: 0.6702\n",
            "step: 200    loss: 0.5976\n",
            "step: 210    loss: 0.5115\n",
            "step: 220    loss: 0.5981\n",
            "step: 230    loss: 0.6566\n",
            "step: 240    loss: 0.6243\n",
            "step: 250    loss: 0.4582\n",
            "step: 260    loss: 0.6176\n",
            "step: 270    loss: 0.5589\n",
            "step: 280    loss: 0.5239\n",
            "step: 290    loss: 0.5388\n",
            "step: 300    loss: 0.5915\n",
            "step: 310    loss: 0.6219\n",
            "step: 320    loss: 0.6459\n",
            "step: 330    loss: 0.5204\n",
            "step: 340    loss: 0.6747\n",
            "step: 350    loss: 0.7407\n",
            "step: 360    loss: 0.5706\n",
            "step: 370    loss: 0.5459\n",
            "step: 380    loss: 0.7281\n",
            "step: 390    loss: 0.6346\n",
            "step: 400    loss: 0.5429\n",
            "step: 410    loss: 0.7704\n",
            "step: 420    loss: 0.5879\n",
            "\n",
            "============avg_training_loss:  0.6223766900529372============\n",
            "\n",
            "step: 0    loss: 0.5798\n",
            "step: 10    loss: 0.521\n",
            "step: 20    loss: 0.5999\n",
            "step: 30    loss: 0.7436\n",
            "step: 40    loss: 0.538\n",
            "step: 50    loss: 0.6048\n",
            "step: 60    loss: 0.5711\n",
            "step: 70    loss: 0.6926\n",
            "step: 80    loss: 0.6252\n",
            "step: 90    loss: 0.5963\n",
            "step: 100    loss: 0.6856\n",
            "step: 110    loss: 0.5236\n",
            "step: 120    loss: 0.5152\n",
            "step: 130    loss: 0.5764\n",
            "step: 140    loss: 0.6703\n",
            "step: 150    loss: 0.5307\n",
            "step: 160    loss: 0.707\n",
            "step: 170    loss: 0.7507\n",
            "step: 180    loss: 0.6517\n",
            "step: 190    loss: 0.6107\n",
            "step: 200    loss: 0.5945\n",
            "step: 210    loss: 0.5805\n",
            "step: 220    loss: 0.5817\n",
            "step: 230    loss: 0.6272\n",
            "step: 240    loss: 0.6422\n",
            "step: 250    loss: 0.6648\n",
            "step: 260    loss: 0.612\n",
            "step: 270    loss: 0.6795\n",
            "step: 280    loss: 0.584\n",
            "step: 290    loss: 0.6012\n",
            "step: 300    loss: 0.5634\n",
            "step: 310    loss: 0.8699\n",
            "step: 320    loss: 0.7014\n",
            "step: 330    loss: 0.5561\n",
            "step: 340    loss: 0.6444\n",
            "step: 350    loss: 0.7678\n",
            "step: 360    loss: 0.5857\n",
            "step: 370    loss: 0.5815\n",
            "step: 380    loss: 0.6868\n",
            "step: 390    loss: 0.6721\n",
            "step: 400    loss: 0.6366\n",
            "step: 410    loss: 0.5787\n",
            "step: 420    loss: 0.5715\n",
            "\n",
            "============avg_training_loss:  0.6213204506958756============\n",
            "\n",
            "step: 0    loss: 0.663\n",
            "step: 10    loss: 0.7109\n",
            "step: 20    loss: 0.7001\n",
            "step: 30    loss: 0.5423\n",
            "step: 40    loss: 0.666\n",
            "step: 50    loss: 0.6842\n",
            "step: 60    loss: 0.4946\n",
            "step: 70    loss: 0.4279\n",
            "step: 80    loss: 0.6883\n",
            "step: 90    loss: 0.5464\n",
            "step: 100    loss: 0.5979\n",
            "step: 110    loss: 0.7455\n",
            "step: 120    loss: 0.6477\n",
            "step: 130    loss: 0.622\n",
            "step: 140    loss: 0.6872\n",
            "step: 150    loss: 0.6419\n",
            "step: 160    loss: 0.5632\n",
            "step: 170    loss: 0.5421\n",
            "step: 180    loss: 0.7524\n",
            "step: 190    loss: 0.6483\n",
            "step: 200    loss: 0.7267\n",
            "step: 210    loss: 0.6836\n",
            "step: 220    loss: 0.6197\n",
            "step: 230    loss: 0.7176\n",
            "step: 240    loss: 0.5187\n",
            "step: 250    loss: 0.5932\n",
            "step: 260    loss: 0.512\n",
            "step: 270    loss: 0.5339\n",
            "step: 280    loss: 0.5902\n",
            "step: 290    loss: 0.6852\n",
            "step: 300    loss: 0.7108\n",
            "step: 310    loss: 0.7171\n",
            "step: 320    loss: 0.6297\n",
            "step: 330    loss: 0.6399\n",
            "step: 340    loss: 0.4749\n",
            "step: 350    loss: 0.6915\n",
            "step: 360    loss: 0.5123\n",
            "step: 370    loss: 0.6627\n",
            "step: 380    loss: 0.5037\n",
            "step: 390    loss: 0.6915\n",
            "step: 400    loss: 0.7367\n",
            "step: 410    loss: 0.6187\n",
            "step: 420    loss: 0.6332\n",
            "\n",
            "============avg_training_loss:  0.6228998244226536============\n",
            "\n",
            "학습 끝 ^^\n"
          ],
          "name": "stdout"
        }
      ]
    },
    {
      "cell_type": "markdown",
      "metadata": {
        "id": "IhvpTrrdZ_Ss"
      },
      "source": [
        "# 검증"
      ]
    },
    {
      "cell_type": "markdown",
      "metadata": {
        "id": "8XsA3g76cKrM"
      },
      "source": [
        "검증에 앞서, 정확도를 구하는 함수를 짜보자"
      ]
    },
    {
      "cell_type": "code",
      "metadata": {
        "id": "J48zQHqqcKYq"
      },
      "source": [
        "def flat_acc(preds,labels):\r\n",
        "    pred_flat = np.argmax(preds,axis=1).flatten()\r\n",
        "    labels_flat = labels.flatten()\r\n",
        "    return np.sum(pred_flat == labels_flat) // len(labels_flat)"
      ],
      "execution_count": 98,
      "outputs": []
    },
    {
      "cell_type": "code",
      "metadata": {
        "colab": {
          "base_uri": "https://localhost:8080/"
        },
        "id": "5R1ewbSnZ9YV",
        "outputId": "891d613a-9079-422c-a028-6cbceaa6314a"
      },
      "source": [
        "model.eval()\r\n",
        "\r\n",
        "total_eval_acc = 0\r\n",
        "total_eval_loss = 0\r\n",
        "val_losses = []\r\n",
        "total_val_steps = 0\r\n",
        "val_steps = []\r\n",
        "\r\n",
        "for epoch in range(0,EPOCHS):\r\n",
        "    cnt = 0\r\n",
        "    for batch in valid_loader:\r\n",
        "        \"\"\"\r\n",
        "        val_loader[0] = input_ids\r\n",
        "        val_loader[1] = attention_mask\r\n",
        "        val_loader[2] = labels\r\n",
        "        \"\"\"\r\n",
        "        batch_val_ids = batch[0].to(device)\r\n",
        "        batch_val_mask = batch[1].to(device)\r\n",
        "        batch_labels = batch[2].to(device)\r\n",
        "\r\n",
        "        with torch.no_grad(): # torch.no_grad()로 감싸는 이유는 가중치들이 requires_grad=True이지만 autograd에서는 이를 추적할 필요가 없기 때문이다.\r\n",
        "            result = model(batch_val_ids,\r\n",
        "                           token_type_ids = None,\r\n",
        "                           attention_mask = batch_val_mask, \r\n",
        "                           labels = batch_labels)\r\n",
        "            loss, logits = result[0], result[1]\r\n",
        "\r\n",
        "        total_eval_loss += loss.item()\r\n",
        "        val_losses.append(loss.item())\r\n",
        "        val_steps.append(cnt)\r\n",
        "        cnt += 1\r\n",
        "        \r\n",
        "\r\n",
        "        # 출력을 위해 텐서를 cpu의 넘파이로 옮김\r\n",
        "        logits = logits.detach().cpu().numpy()\r\n",
        "        label_ids = batch_labels.to('cpu').numpy()\r\n",
        "\r\n",
        "        total_eval_acc += flat_acc(logits, label_ids)\r\n",
        "    \r\n",
        "    avg_eval_loss = total_eval_loss / len(valid_loader)\r\n",
        "    avg_eval_acc = total_eval_acc / len(valid_loader)\r\n",
        "    print(f'\\n============평균 검증 정확도:  {avg_eval_acc}============\\n')\r\n",
        "    print(f'\\n============평균 검증 손실:  {avg_eval_loss}============\\n')\r\n",
        "\r\n",
        "    training_stats.append({\r\n",
        "        'Val_loss':avg_eval_loss,\r\n",
        "        'Val_acc':avg_eval_acc\r\n",
        "    })\r\n",
        "\r\n",
        "print('검증도 끝 ^^')\r\n"
      ],
      "execution_count": 102,
      "outputs": [
        {
          "output_type": "stream",
          "text": [
            "\n",
            "============평균 검증 정확도:  0.009345794392523364============\n",
            "\n",
            "\n",
            "============평균 검증 손실:  0.6172799381697289============\n",
            "\n",
            "\n",
            "============평균 검증 정확도:  0.018691588785046728============\n",
            "\n",
            "\n",
            "============평균 검증 손실:  1.2345598763394579============\n",
            "\n",
            "\n",
            "============평균 검증 정확도:  0.028037383177570093============\n",
            "\n",
            "\n",
            "============평균 검증 손실:  1.8518398145091868============\n",
            "\n",
            "검증도 끝 ^^\n"
          ],
          "name": "stdout"
        }
      ]
    },
    {
      "cell_type": "markdown",
      "metadata": {
        "id": "Oh74rf52jG8p"
      },
      "source": [
        "# 결과"
      ]
    },
    {
      "cell_type": "code",
      "metadata": {
        "colab": {
          "base_uri": "https://localhost:8080/",
          "height": 267
        },
        "id": "d0pDjg1RiM-h",
        "outputId": "fe215804-5e98-429e-948e-bd8471be7d2e"
      },
      "source": [
        "import matplotlib.pyplot as plt\r\n",
        "\r\n",
        "plt.plot(steps,losses,'b--')\r\n",
        "plt.plot(val_steps,val_losses,'r-')\r\n",
        "plt.show()"
      ],
      "execution_count": 105,
      "outputs": [
        {
          "output_type": "display_data",
          "data": {
            "image/png": "[encoded data removed]",
            "text/plain": [
              "<Figure size 432x288 with 1 Axes>"
            ]
          },
          "metadata": {
            "tags": [],
            "needs_background": "light"
          }
        }
      ]
    },
    {
      "cell_type": "markdown",
      "metadata": {
        "id": "E7Kop7bDkB2l"
      },
      "source": [
        "# 테스트"
      ]
    },
    {
      "cell_type": "markdown",
      "metadata": {
        "id": "wl80upW9kLh4"
      },
      "source": [
        "- 따로 준비해둔 516 개의 문장으로 구성된 테스트셋"
      ]
    },
    {
      "cell_type": "code",
      "metadata": {
        "colab": {
          "base_uri": "https://localhost:8080/"
        },
        "id": "kRD_Rk4IkC2-",
        "outputId": "82373b8c-42c6-47e9-dfff-844110253560"
      },
      "source": [
        "import pandas as pd\r\n",
        "\r\n",
        "df = pd.read_csv(\"./cola_public/raw/out_of_domain_dev.tsv\", delimiter='\\t', header=None, names=['sentence_source', 'label', 'label_notes', 'sentence'])\r\n",
        "print('Number of test sentences: {:,}\\n'.format(df.shape[0]))\r\n",
        "print(df.columns)\r\n",
        "print(df.sentence[1])"
      ],
      "execution_count": 187,
      "outputs": [
        {
          "output_type": "stream",
          "text": [
            "Number of test sentences: 516\n",
            "\n",
            "Index(['sentence_source', 'label', 'label_notes', 'sentence'], dtype='object')\n",
            "They claimed they had settled on something, but it wasn't clear what they had settled on.\n"
          ],
          "name": "stdout"
        }
      ]
    },
    {
      "cell_type": "markdown",
      "metadata": {
        "id": "vxctmXzzkcW8"
      },
      "source": [
        "앞에서 했던 전처리를 여기서도 동일하게 수행"
      ]
    },
    {
      "cell_type": "code",
      "metadata": {
        "colab": {
          "base_uri": "https://localhost:8080/"
        },
        "id": "mVz6E90MkKMU",
        "outputId": "7ebb33c3-ee9f-4eb3-8103-8ad85042e6d3"
      },
      "source": [
        "sentences = df.sentence.values\r\n",
        "labels = df.label.values\r\n",
        "\r\n",
        "input_ids = []\r\n",
        "attention_masks = []\r\n",
        "\r\n",
        "for sen in sentences:\r\n",
        "    encoded_sen = tokenizer.encode_plus(sen,\r\n",
        "                                        add_special_tokens = True,\r\n",
        "                                        max_length=64,\r\n",
        "                                        return_attention_mask=True,\r\n",
        "                                        pad_to_max_length=True,\r\n",
        "                                        return_tensors = 'pt')\r\n",
        "    input_ids.append(encoded_sen['input_ids'])\r\n",
        "    attention_masks.append(encoded_sen['attention_mask'])\r\n",
        "\r\n",
        "#list->tensor\r\n",
        "input_ids = torch.cat(input_ids, dim=0)\r\n",
        "attention_masks = torch.cat(attention_masks, dim = 0)\r\n",
        "labels = torch.tensor(labels)\r\n",
        "\r\n",
        "BATCH_SIZE = 32\r\n",
        "\r\n",
        "pred_data = TensorDataset(input_ids,attention_masks,labels)\r\n",
        "pred_sampler = SequentialSampler(pred_data)\r\n",
        "pred_loader = DataLoader(pred_data,\r\n",
        "                         sampler=pred_sampler,\r\n",
        "                         batch_size=BATCH_SIZE)\r\n"
      ],
      "execution_count": 188,
      "outputs": [
        {
          "output_type": "stream",
          "text": [
            "/usr/local/lib/python3.6/dist-packages/transformers/tokenization_utils_base.py:2142: FutureWarning: The `pad_to_max_length` argument is deprecated and will be removed in a future version, use `padding=True` or `padding='longest'` to pad to the longest sequence in the batch, or use `padding='max_length'` to pad to a max length. In this case, you can give a specific length with `max_length` (e.g. `max_length=45`) or leave max_length to None to pad to the maximal input size of the model (e.g. 512 for Bert).\n",
            "  FutureWarning,\n"
          ],
          "name": "stderr"
        }
      ]
    },
    {
      "cell_type": "code",
      "metadata": {
        "colab": {
          "base_uri": "https://localhost:8080/"
        },
        "id": "ZdarUevXmOZV",
        "outputId": "5bacc4d3-3b40-4a37-c289-0091618553fc"
      },
      "source": [
        "model.eval()\r\n",
        "\r\n",
        "predictions=[]\r\n",
        "labels =[]\r\n",
        "\r\n",
        "for batch in pred_loader:\r\n",
        "    batch = tuple(t.to(device) for t in batch)\r\n",
        "    b_input_ids, b_input_mask, b_labels = batch\r\n",
        "\r\n",
        "    with torch.no_grad():\r\n",
        "        result = model(b_input_ids, \r\n",
        "                       token_type_ids = None, \r\n",
        "                       attention_mask = b_input_mask)\r\n",
        "    logits = result[0]\r\n",
        "    \r\n",
        "    #gpu->cpu\r\n",
        "    logits = logits.detach().cpu().numpy()\r\n",
        "    labels_ids = b_labels.to('cpu').numpy()\r\n",
        "\r\n",
        "    predictions.append(logits)\r\n",
        "    labels.append(labels_ids)\r\n",
        "\r\n",
        "print('테스트 완료 ^^')\r\n",
        "print(len(logits),len(labels),len(predictions))\r\n",
        "print(predictions[1])\r\n",
        "print(labels[1])\r\n",
        "print(len(predictions[1]))\r\n",
        "print(len(labels[1]))"
      ],
      "execution_count": 189,
      "outputs": [
        {
          "output_type": "stream",
          "text": [
            "테스트 완료 ^^\n",
            "4 17 17\n",
            "[[-5.22860140e-02  9.42214429e-01]\n",
            " [ 1.58029467e-01  4.92303431e-01]\n",
            " [ 3.89743745e-02  9.97587860e-01]\n",
            " [ 1.23240151e-01  6.33725524e-01]\n",
            " [ 1.12563595e-01  6.45310462e-01]\n",
            " [ 1.25449568e-01  7.47154891e-01]\n",
            " [ 3.11109442e-02  8.56492281e-01]\n",
            " [-1.29896194e-01  7.45413423e-01]\n",
            " [-4.34066961e-03  9.45772171e-01]\n",
            " [ 1.88685376e-02  9.40793931e-01]\n",
            " [ 5.04645333e-02  7.78768241e-01]\n",
            " [ 1.50537819e-01  6.19503260e-01]\n",
            " [ 7.23662004e-02  9.31154668e-01]\n",
            " [-3.77127677e-02  7.06097841e-01]\n",
            " [-1.70071684e-02  6.94440007e-01]\n",
            " [ 2.57898960e-02  6.51734233e-01]\n",
            " [-5.68646826e-02  5.02504230e-01]\n",
            " [ 5.28035127e-02  9.59193170e-01]\n",
            " [-6.93192780e-02  6.73806310e-01]\n",
            " [-5.65236248e-02  6.88705385e-01]\n",
            " [-4.40158188e-01 -3.36946100e-02]\n",
            " [-3.25605795e-02  7.45551944e-01]\n",
            " [ 6.89027607e-02  8.03788602e-01]\n",
            " [ 1.61556393e-01  1.08336437e+00]\n",
            " [-1.07564649e-03  8.67509246e-01]\n",
            " [-1.07564649e-03  8.67509246e-01]\n",
            " [ 8.10913295e-02  7.74565995e-01]\n",
            " [-3.94226471e-03  8.23304415e-01]\n",
            " [-5.42662153e-03  6.66237652e-01]\n",
            " [-4.48360555e-02  8.34668636e-01]\n",
            " [-3.94226471e-03  8.23304415e-01]\n",
            " [-2.85726022e-02  9.66319025e-01]]\n",
            "[1 1 1 1 1 1 1 1 0 0 0 1 1 1 1 1 1 1 0 0 1 1 1 1 1 0 0 1 0 0 0 1]\n",
            "32\n",
            "32\n"
          ],
          "name": "stdout"
        }
      ]
    },
    {
      "cell_type": "code",
      "metadata": {
        "colab": {
          "base_uri": "https://localhost:8080/"
        },
        "id": "xdZulc0dsWzu",
        "outputId": "80c0be33-1665-4353-f835-807e39dc0b50"
      },
      "source": [
        "print('Positive samples: %d of %d (%.2f%%)' % (df.label.sum(), len(df.label), (df.label.sum() / len(df.label) * 100.0)))"
      ],
      "execution_count": 190,
      "outputs": [
        {
          "output_type": "stream",
          "text": [
            "Positive samples: 354 of 516 (68.60%)\n"
          ],
          "name": "stdout"
        }
      ]
    },
    {
      "cell_type": "code",
      "metadata": {
        "colab": {
          "base_uri": "https://localhost:8080/"
        },
        "id": "RxQstCVtxBBn",
        "outputId": "2a58a70a-543d-4fdc-84ef-b22811487aa5"
      },
      "source": [
        "label_result=[]\r\n",
        "for lb in labels:\r\n",
        "    label_result.append(np.sum(lb,axis=0))\r\n",
        "print(label_result)"
      ],
      "execution_count": 212,
      "outputs": [
        {
          "output_type": "stream",
          "text": [
            "[19, 22, 19, 23, 21, 19, 20, 28, 24, 17, 23, 24, 19, 26, 26, 21, 3]\n"
          ],
          "name": "stdout"
        }
      ]
    },
    {
      "cell_type": "markdown",
      "metadata": {
        "id": "w7LvtI0iotI9"
      },
      "source": [
        "### 테스트 측정 결과  \r\n",
        "  \r\n",
        "- [MCC 설명]('https://scikit-learn.org/stable/modules/generated/sklearn.metrics.matthews_corrcoef.html')"
      ]
    },
    {
      "cell_type": "code",
      "metadata": {
        "colab": {
          "base_uri": "https://localhost:8080/"
        },
        "id": "KTL6A69cvT8v",
        "outputId": "4030bd80-7357-4dae-ed86-9449714104fa"
      },
      "source": [
        "prediction_set = []\r\n",
        "print('예측 벡터\\n')\r\n",
        "for pred in predictions:\r\n",
        "    suma = np.sum(pred,axis=0)\r\n",
        "    prediction_set.append(suma)\r\n",
        "print(prediction_set)\r\n",
        "\r\n",
        "prediction_set2 = []\r\n",
        "for p in prediction_set:\r\n",
        "    prediction_set2.append(p[1])\r\n",
        "print(prediction_set2)    \r\n",
        "\r\n",
        "result=[]\r\n",
        "for i in range(17):\r\n",
        "    if prediction_set2[i] - label_result[i] >4: # 4는 내가 임의로 정한 것\r\n",
        "        result.append(0)\r\n",
        "    elif prediction_set2[i] - label_result[i] <4:\r\n",
        "        result.append(1)\r\n",
        "\r\n",
        "one=0\r\n",
        "zero=0\r\n",
        "for j in result:\r\n",
        "    if j == 1:\r\n",
        "        one+=1\r\n",
        "    else:\r\n",
        "        zero+=1\r\n",
        "\r\n",
        "print(one,zero)\r\n",
        "print('accuracy: ',round((one/(one+zero))*100,3),'%')\r\n"
      ],
      "execution_count": 223,
      "outputs": [
        {
          "output_type": "stream",
          "text": [
            "예측 벡터\n",
            "\n",
            "[array([ 0.4662616, 22.678963 ], dtype=float32), array([ 0.28620893, 24.375107  ], dtype=float32), array([ 1.275849, 21.919443], dtype=float32), array([ 1.0069468, 25.400478 ], dtype=float32), array([ 1.6942196, 26.534948 ], dtype=float32), array([ 0.7965374, 20.480465 ], dtype=float32), array([ 0.58308345, 22.063683  ], dtype=float32), array([ 1.5024811, 21.08399  ], dtype=float32), array([ 0.9781708, 21.15051  ], dtype=float32), array([ 1.9375188, 20.220636 ], dtype=float32), array([ 1.8616086, 20.06676  ], dtype=float32), array([ 1.9093299, 21.456003 ], dtype=float32), array([ 0.9133444, 22.061832 ], dtype=float32), array([ 1.8105123, 21.255209 ], dtype=float32), array([ 0.68716323, 22.898623  ], dtype=float32), array([ 1.0431023, 24.077984 ], dtype=float32), array([0.35804784, 3.2558308 ], dtype=float32)]\n",
            "[22.678963, 24.375107, 21.919443, 25.400478, 26.534948, 20.480465, 22.063683, 21.08399, 21.15051, 20.220636, 20.06676, 21.456003, 22.061832, 21.255209, 22.898623, 24.077984, 3.2558308]\n",
            "16 1\n",
            "accuracy:  94.118 %\n"
          ],
          "name": "stdout"
        }
      ]
    },
    {
      "cell_type": "markdown",
      "metadata": {
        "id": "bPnfCyb0_0sc"
      },
      "source": [
        "# References & Copy\r\n",
        "  \r\n",
        "[1] https://colab.research.google.com/drive/1pTuQhug6Dhl9XalKB0zUGf4FIdYFlpcX#scrollTo=EKOTlwcmxmej  \r\n",
        "[2] https://mccormickml.com/2019/07/22/BERT-fine-tuning/  \r\n",
        "[3] https://huggingface.co/transformers/main_classes/tokenizer.html  \r\n",
        "[4] https://hiddenbeginner.github.io/deeplearning/paperreview/2019/12/29/paper_review_AdamW.html\r\n"
      ]
    }
  ]
}