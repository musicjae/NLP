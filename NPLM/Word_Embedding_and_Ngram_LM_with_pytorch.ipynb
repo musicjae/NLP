{
  "nbformat": 4,
  "nbformat_minor": 0,
  "metadata": {
    "colab": {
      "name": "Word Embedding and Ngram-LM with pytorch.ipynb",
      "provenance": [],
      "authorship_tag": "ABX9TyMZOZVvj9HpoGBi9BQV0iDM",
      "include_colab_link": true
    },
    "kernelspec": {
      "name": "python3",
      "display_name": "Python 3"
    }
  },
  "cells": [
    {
      "cell_type": "markdown",
      "metadata": {
        "id": "view-in-github",
        "colab_type": "text"
      },
      "source": [
        "<a href=\"https://colab.research.google.com/github/musicjae/NLP/blob/master/NPLM/Word_Embedding_and_Ngram_LM_with_pytorch.ipynb\" target=\"_parent\"><img src=\"https://colab.research.google.com/assets/colab-badge.svg\" alt=\"Open In Colab\"/></a>"
      ]
    },
    {
      "cell_type": "markdown",
      "metadata": {
        "id": "hh_pMnJUFDkG"
      },
      "source": [
        "# 워드 임베딩 Word Embedding"
      ]
    },
    {
      "cell_type": "markdown",
      "metadata": {
        "id": "UCuxi8CeE8_o"
      },
      "source": [
        "\n",
        "# 1. 들어가며\n",
        "\n",
        "  워드 임베딩이란 우리가 일상에서 사용하는 자연 언어 natural language를 컴퓨터가 처리하기 수월하게 하기 위해, 그 언어 내의 문장의 각 단어를 실수로 구성된 밀집 벡터 dense vector로 표현(사상map)하는 것이다. 우리가 워드 임베딩을 사용할 때 얻는 **이점**은 앞서 말했듯이 컴퓨터가 우리 언어를 처리할 수 있게 된다는 점 뿐만 아니라, 기존에 사용되던 방법 (원핫 인코딩) 보다 계산 복잡도 차원에서 더 효율적으로 언어를 처리할 수 있다는 것이다. 가령, 단어 집합 Vocabulary 내에 V 개의 단어word를 처리하고자 할 때, 기존에 사용되던 원핫 인코딩 방법을 사용하면 우리는 (V, V) 크기의 벡터를 처리해야 하는 반면에, 워드 임베딩 방법을 사용하면, 이것보다 더 작은 크기의 벡터만을 처리하면 되기 때문에 계산 복잡도 차원에서 이점을 얻는다. 더욱이, 원핫 인코딩으로 처리된 단어들은 서로 어떤 연관도 갖지 않게 되는데, 워드 임베딩을 이용하면 이 한계를 극복할 수 있다. 그 곤경이란 다음 같은 것이다. 예를 들어,\n",
        "  \n",
        "   '나는 사과 보다 포도가 더 좋다'\n",
        "   \n",
        "   는 문장에 대하여, '사과'와 '포도'는 둘다 과일 범주에 있다는 측면에서 서로 어느 정도의 유사성을 가질 수 있고, 분명 우리는 '사과'가 지칭하는 대상은 '자동차'가 지칭하는 대상 보다 '포도'가 지칭하는 대상과 더 유사하다는 의미로, '사과와 포도는 유사하다'고 말할 수 있다는 것을 받아들일 수 있다. 하지만 원핫 인코딩 방법을 사용한다면 이런 유의미한 유사성 비교는 불가능해진다. 왜냐하면 위 문장을 가지고 말하자면, 이 문장은 아래와 같이\n",
        "   ['나는','사과','보다','포도가','더','좋다']인 6 개의 단어로 구성되므로, 각각이 원핫 인코딩으로 표현될 때 '사과'와 '포도가' 는 $[010000]$과 $[000100]$으로 표현될 것이다. 하지만 우리가 유사도를 측정하기 위해 Cosine 유사성 분석을 수행할 때, 이 두 벡터의 내적의 값은 0 이기 때문에 이 둘은 어떤 관련도 갖지 않는다. 뿐만 아니라, 다른 모든 단어들의 조합에 대한 내적 역시도 항상 0이기 때문에 이들의 유사성은 \"항상 어떤 연관도 없음\"으로 분석될 것이다. 이것은 분명 원핫 인코딩이 갖는 곤경인 것 같다. 전술했듯이, 우리는 분명 어떤 단어들은 다른 단어들 보다 더 유사하다는 것을 받아들일 수 있기 때문이다. 그렇다면, 원핫 인코딩은 우리에게 불만족스러움을 남기는 것 같다.  \n",
        "\n",
        "하지만 우리가 이번 시간에 다룰 \"워드 임베딩\"을 사용한다면, 즉, 실수로 구성된 밀집 벡터를 이용한다면, 위 같은 곤경을 피할 수 있다. 왜냐하면 각 단어는 특정 실수로 표현되어 있을 것이기 때문이다. (따라서 단어들 간의 내적은 항상 0이 아닐 수 있다.) 그렇다면, 어떻게 단어가 특정 실수로 표현될 때 단어들 간의 유사도를 측정할 수 있을까? 아래의 예를 통해 이해를 더해보자.  \n",
        "  \n",
        "$q_{philosopher}$는 [ can write, read some books, majored in Philosophy] 에 대하여, $[3.1,\\ 5.4,\\ 9.2]$의 벡터를 갖는다고 해보자. 반면에,  \n",
        "$q_{mathematician}$은 [can write, read some books, majored in philosophy]에 대하여, $[2.7,\\ 4.3,\\ -5.4]$의 벡터를 갖는다고 해보자.  \n",
        "  \n",
        "즉, 철학자는 철학을 전공할 가능성이 높고 (높은 스코어를 지니니까), 반면에 수학자는 철학을 전공할 가능성이 낮다(낮은 스코어를 지니니까). 이들의 유사성 분석은 아래 같은 식을 통해 이루어진다:  \n",
        "유사성$=\\frac{q_{philosopher}*q_{mathematician}}{|q_{philosopher}||q_{mathematician}|}=cos(\\phi)$  \n",
        "\n",
        "이 유사성 분석은 우리의 직관적인 유사성 비교와 대부분의 경우에 잘 부합한다. 가령, 우리는 대부분의 경우에 철학자와 육상 선수 간의 유사성 비교 출력값 보다 철학자와 수학자 간의 유사성 비교 출력값이 더 높을 것이라는 직관을 가질 수 있는데, 위 유사성 분석은 그러한 직관에 잘 부합하는 값을 제공한다. 하지만 우리의 직관에 잘 부합하지 않는 경우도 종종 있고, 뿐만 아니라 유사성 비교 분석은 종종 편향을 갖고 있기도 하다. 가령, '간호사'는 '남자' 보다 '여자'에 더 높은 유사도를 지니고, '엔지니어'는 '여자' 보다 '남자'에 더 높은 유사도를 지닌다. 이런 편향은 인종적으로도 나타나기도 한다. 여기서는 이런 한계가 있다는 점만을 언급한 채 지나가겠다."
      ]
    },
    {
      "cell_type": "markdown",
      "metadata": {
        "id": "qYNS_O5iJ-Js"
      },
      "source": [
        "# 2. Pytorch로 워드 임베딩"
      ]
    },
    {
      "cell_type": "code",
      "metadata": {
        "id": "D7i8nYyNE5bi",
        "outputId": "432b6712-44cf-4d2c-f589-680c09fa0721",
        "colab": {
          "base_uri": "https://localhost:8080/",
          "height": 34
        }
      },
      "source": [
        "import torch\n",
        "import torch.nn as nn\n",
        "import torch.nn.functional as F\n",
        "import torch.optim as optim\n",
        "\n",
        "torch.manual_seed(1)"
      ],
      "execution_count": 2,
      "outputs": [
        {
          "output_type": "execute_result",
          "data": {
            "text/plain": [
              "<torch._C.Generator at 0x7ff0dbae31e0>"
            ]
          },
          "metadata": {
            "tags": []
          },
          "execution_count": 2
        }
      ]
    },
    {
      "cell_type": "markdown",
      "metadata": {
        "id": "msquM707KQxj"
      },
      "source": [
        "# 2.1 단어에서 밀집 벡터로"
      ]
    },
    {
      "cell_type": "markdown",
      "metadata": {
        "id": "DpWfmz_jKgAp"
      },
      "source": [
        "아래 같이 2 개의 단어를 (2,5) 크기의 벡터에 사상해보자. 여기서 5는 임베딩 차원을 나타낸다."
      ]
    },
    {
      "cell_type": "code",
      "metadata": {
        "id": "2NvvFAkSKV4h",
        "outputId": "d7cfe9a6-7bac-45d2-c111-6e0bdd9be5c8",
        "colab": {
          "base_uri": "https://localhost:8080/",
          "height": 34
        }
      },
      "source": [
        "w2i = {'My':0, 'name':1}\n",
        "embeds = nn.Embedding(2,5)\n",
        "print(embeds)"
      ],
      "execution_count": 4,
      "outputs": [
        {
          "output_type": "stream",
          "text": [
            "Embedding(2, 5)\n"
          ],
          "name": "stdout"
        }
      ]
    },
    {
      "cell_type": "markdown",
      "metadata": {
        "id": "I2zvl2k0K2YE"
      },
      "source": [
        "임베딩 벡터를 확인하고 싶다면 다음 같이 해보자."
      ]
    },
    {
      "cell_type": "code",
      "metadata": {
        "id": "kIPVlr0kKuzH",
        "outputId": "0549a2b0-bc6f-47ad-ca11-4ebbed8691ad",
        "colab": {
          "base_uri": "https://localhost:8080/",
          "height": 51
        }
      },
      "source": [
        "lookup_tensor = torch.tensor([w2i[\"My\"]], dtype=torch.long)\n",
        "My_embed = embeds(lookup_tensor)\n",
        "print(My_embed)"
      ],
      "execution_count": 5,
      "outputs": [
        {
          "output_type": "stream",
          "text": [
            "tensor([[-0.8923, -0.0583, -0.1955, -0.9656,  0.4224]],\n",
            "       grad_fn=<EmbeddingBackward>)\n"
          ],
          "name": "stdout"
        }
      ]
    },
    {
      "cell_type": "markdown",
      "metadata": {
        "id": "UhxyqLyMLLlW"
      },
      "source": [
        "# 3. N-gram 언어 모델  \n",
        " "
      ]
    },
    {
      "cell_type": "markdown",
      "metadata": {
        "id": "DbxfduclMj7j"
      },
      "source": [
        "## 3.1 들어가며  \n",
        " \n",
        "언어 모델이란 각 단어가 갖고 있는 확률 분포를 가지고 이전 단어로부터 다음 단어가 무엇인지를 구하는 작업을 가리킨다. 언어 모델의 수행은 조건적 확률에 의존한다. 아래의 예를 보자.  \n",
        "\n",
        "(1) I am happy to meet you\n",
        "\n",
        "문장 (1)에 대한 N-gram 언어 모델은 다음과 같다.  \n",
        "> unigram은 단어를 하나씩, bigram은 단어를 2개 씩, n-gram은 단어를 n 개씩 다룬다는 것을 의미한다.\n",
        "\n",
        "$P(you|I\\ am\\ happy\\ to\\ meet)$"
      ]
    },
    {
      "cell_type": "markdown",
      "metadata": {
        "id": "2kDcH2K1MmYJ"
      },
      "source": [
        "## 3.2 파이토치로 N-gram 언어 모델"
      ]
    },
    {
      "cell_type": "markdown",
      "metadata": {
        "id": "ICd9ScONM6IG"
      },
      "source": [
        "Plato의 \"Republic\"으로 언어 모델을 구현해보자."
      ]
    },
    {
      "cell_type": "code",
      "metadata": {
        "id": "hDvt-HXdMfyn"
      },
      "source": [
        "CONTEXT_SIZE = 2\n",
        "EMBEDDING_DIM = 10\n",
        "raw = \"\"\"\n",
        "Then, Polemarchus, the conclusion will be that for a bad judge\n",
        "of character it will often be right to injure his friends, when they\n",
        "really are rogues, and to help his enemies, when they really are\n",
        "honest men-the exact opposite of what we took Simonides to\n",
        "mean.\n",
        "That certainly does follow, he said. We must shift our ground.\n",
        "Perhaps our definition of friend and enemy was wrong.\n",
        "What definition, Polemarchus?\n",
        "We said a friend was one whom we believe to be an honest man.\n",
        "And how are we to define him now?\n",
        "As one who really is honest as well as seeming so. If he merely\n",
        "seems so, he will be only a seeming friend. And the same will\n",
        "apply to enemies.\n",
        "On this showing, then, it is the good people that will be our\n",
        "friends, the wicked our enemies.\n",
        "Yes.\n",
        "You would have us, in fact, add something to our original definition of justice: it will not mean merely doing good to friends and\n",
        "harm to enemies, but doing good to friends who are good, and\n",
        "harm to enemies who are wicked.\n",
        "Yes, I think that is all right.\n",
        "Can it really be a just man's business to harm any human being?\n",
        "Certainly; it is right for him to harm bad men who are his\n",
        "enemies.\n",
        "But does not harming a horse or a dog mean making it a worse\n",
        "horse or dog, so that each will be a less perfect creature in its own\n",
        "special way?\n",
        "Yes.\n",
        "Isn't that also true of human beings-that to harm them means\n",
        "making them worse men by the standard of human excellence?\n",
        "Yes.\n",
        "And is not justice a peculiarly human excellence?\n",
        "Undoubtedly.\n",
        "To harm a man, then, must mean making him less just.\n",
        "I suppose so\n",
        "\"\"\".split()"
      ],
      "execution_count": 6,
      "outputs": []
    },
    {
      "cell_type": "markdown",
      "metadata": {
        "id": "hkETb5G0NPpi"
      },
      "source": [
        "### 3.2.1 토큰화  \n",
        "  \n",
        "우리는 raw 텍스트를 처리하기 위해 전처리 작업을 수행해주어야 한다. 그것은 이 raw 텍스트를 단어 단위로 나눠주는 토큰화 작업을 수행하는 것이다.  \n",
        "  \n"
      ]
    },
    {
      "cell_type": "code",
      "metadata": {
        "id": "FvPWj3oyOLvK",
        "outputId": "2e1ac4b1-e7eb-4bb0-8548-4c300c5eddcb",
        "colab": {
          "base_uri": "https://localhost:8080/",
          "height": 34
        }
      },
      "source": [
        "print(len(raw))"
      ],
      "execution_count": 8,
      "outputs": [
        {
          "output_type": "stream",
          "text": [
            "294\n"
          ],
          "name": "stdout"
        }
      ]
    },
    {
      "cell_type": "code",
      "metadata": {
        "id": "SyiSe-FyNRnE",
        "outputId": "a60ba6ba-e3ab-4a82-de71-162be99b91e4",
        "colab": {
          "base_uri": "https://localhost:8080/",
          "height": 54
        }
      },
      "source": [
        "trigram = [([raw[i],raw[i+1]],raw[i+2])\n",
        "for i in range(len(raw)-2)]\n",
        "\n",
        "print(trigram[:3])"
      ],
      "execution_count": 20,
      "outputs": [
        {
          "output_type": "stream",
          "text": [
            "[(['Then,', 'Polemarchus,'], 'the'), (['Polemarchus,', 'the'], 'conclusion'), (['the', 'conclusion'], 'will')]\n"
          ],
          "name": "stdout"
        }
      ]
    },
    {
      "cell_type": "markdown",
      "metadata": {
        "id": "6lBI-xTDOp9C"
      },
      "source": [
        "### 3.2.2 word2index(w2i)  \n",
        "\n",
        "raw 내에 있는 모든 단어에 인덱스를 부여해보자.  \n",
        "  \n"
      ]
    },
    {
      "cell_type": "code",
      "metadata": {
        "id": "Oe7wXwZPOvet",
        "outputId": "6a25df01-d5a2-48d4-90be-6d578516f126",
        "colab": {
          "base_uri": "https://localhost:8080/",
          "height": 88
        }
      },
      "source": [
        "vocab = set(raw)\n",
        "w2i = {w:i for i,w in enumerate(vocab)}\n",
        "print('length: ',len(w2i),'\\n\\n',w2i)"
      ],
      "execution_count": 21,
      "outputs": [
        {
          "output_type": "stream",
          "text": [
            "length:  158 \n",
            "\n",
            " {'but': 0, 'On': 1, 'must': 2, 'really': 3, 'friend': 4, 'Yes.': 5, 'wicked.': 6, 'standard': 7, 'wicked': 8, 'help': 9, 'right': 10, 'how': 11, 'making': 12, 'enemy': 13, 'only': 14, 'was': 15, 'perfect': 16, 'now?': 17, 'also': 18, 'that': 19, 'add': 20, 'judge': 21, 'beings-that': 22, 'good,': 23, 'man.': 24, 'true': 25, 'definition,': 26, 'so.': 27, 'way?': 28, 'less': 29, 'certainly': 30, 'will': 31, 'his': 32, 'the': 33, 'just': 34, 'definition': 35, 'being?': 36, 'and': 37, 'this': 38, 'enemies,': 39, 'We': 40, 'conclusion': 41, 'our': 42, 'means': 43, 'men-the': 44, \"Isn't\": 45, 'define': 46, 'And': 47, 'merely': 48, 'when': 49, 'mean.': 50, 'shift': 51, 'each': 52, 'a': 53, 'Can': 54, 'harming': 55, 'as': 56, 'we': 57, 'to': 58, 'I': 59, 'something': 60, 'Simonides': 61, 'an': 62, 'who': 63, 'injure': 64, 'said.': 65, 'doing': 66, 'friends,': 67, 'any': 68, 'is': 69, 'Polemarchus,': 70, 'What': 71, 'so': 72, 'character': 73, 'friends': 74, 'creature': 75, 'just.': 76, 'he': 77, 'Perhaps': 78, 'opposite': 79, 'bad': 80, 'whom': 81, 'well': 82, 'justice:': 83, 'But': 84, 'suppose': 85, 'be': 86, 'of': 87, 'exact': 88, 'would': 89, 'or': 90, 'rogues,': 91, 'what': 92, 'human': 93, 'ground.': 94, 'fact,': 95, 'for': 96, 'honest': 97, 'own': 98, 'think': 99, 'As': 100, 'justice': 101, 'friend.': 102, 'Undoubtedly.': 103, 'harm': 104, 'often': 105, \"man's\": 106, 'wrong.': 107, 'so,': 108, 'they': 109, 'have': 110, 'does': 111, 'You': 112, 'in': 113, 'all': 114, 'said': 115, 'peculiarly': 116, 'If': 117, 'not': 118, 'right.': 119, 'enemies': 120, 'Polemarchus?': 121, 'it': 122, 'by': 123, 'took': 124, 'then,': 125, 'Then,': 126, 'Certainly;': 127, 'people': 128, 'mean': 129, 'special': 130, 'business': 131, 'To': 132, 'them': 133, 'seems': 134, 'worse': 135, 'follow,': 136, 'showing,': 137, 'are': 138, 'enemies.': 139, 'original': 140, 'Yes,': 141, 'believe': 142, 'us,': 143, 'men': 144, 'one': 145, 'horse': 146, 'seeming': 147, 'dog': 148, 'man,': 149, 'excellence?': 150, 'him': 151, 'good': 152, 'apply': 153, 'dog,': 154, 'its': 155, 'same': 156, 'That': 157}\n"
          ],
          "name": "stdout"
        }
      ]
    },
    {
      "cell_type": "markdown",
      "metadata": {
        "id": "5GvX3pPcPIcx"
      },
      "source": [
        "### 3.2.3 Ngram 언어모델"
      ]
    },
    {
      "cell_type": "code",
      "metadata": {
        "id": "LEQKiLHnPK13",
        "outputId": "00d78d92-9629-44c0-e8de-e7b9dac5e7e2",
        "colab": {
          "base_uri": "https://localhost:8080/",
          "height": 136
        }
      },
      "source": [
        "class NgramLM(nn.Module):\n",
        "\n",
        "    def __init__(self, vocab_size, embedding_size, context_size):\n",
        "\n",
        "        super(NgramLM,self).__init__()\n",
        "        self.embeddings = nn.Embedding(vocab_size,embedding_size)\n",
        "        self.linear1 = nn.Linear(context_size*embedding_size,128)\n",
        "        self.linear2 = nn.Linear(128, vocab_size) # to revover vectors into words\n",
        "\n",
        "    def forward(self, inputs):\n",
        "\n",
        "        embeds = self.embeddings(inputs).view((1,-1)) # reshape (flattening)\n",
        "        out = F.selu(self.linear1(embeds)) # 최근에 공부했던 향상된 relu인 selu를 사용해보자\n",
        "        out = self.linear2(out)\n",
        "        log_probs = F.log_softmax(out, dim=1)\n",
        "        return log_probs\n",
        "\n",
        "losses = []\n",
        "loss_fn = nn.NLLLoss()\n",
        "\n",
        "# generate model\n",
        "\n",
        "model = NgramLM(len(vocab),EMBEDDING_DIM,CONTEXT_SIZE)\n",
        "optimizer = optim.Adam(model.parameters(), lr= 0.001)\n",
        "\n",
        "for epoch in range(301):\n",
        "\n",
        "    total_loss = 0\n",
        "\n",
        "    for context, target in trigram:\n",
        "\n",
        "        # (1) 입력값이 모델을 통과하게 하자. 단어 -->정수 인덱스 --> 텐서화\n",
        "        context_idxs = torch.tensor([w2i[w] for w in context], dtype = torch.long)\n",
        "\n",
        "        # (2) torch는 grads를 축적한다. 새로운 인스턴스를 지나기 전에, 이전 인스턴스의 grads를 0으로 초기화하자.\n",
        "        model.zero_grad()\n",
        "\n",
        "        # (3) 다음 단어에 대한 로그 확률 구하기\n",
        "        log_probs = model(context_idxs) # 위에서 기술한 모델은 입력으로부터 로그 확률을 구하게 설계되었다.\n",
        "\n",
        "        # (4) 비용 함수 구하기 --> 타겟을 텐서화\n",
        "        loss = loss_fn(log_probs, torch.tensor([w2i[target]], dtype=torch.long))\n",
        "\n",
        "        # (5) 역전파, grads 업데이트\n",
        "        loss.backward()\n",
        "        optimizer.step()\n",
        "\n",
        "        # Tensor --> Python number\n",
        "        total_loss += loss.item()\n",
        "    if epoch % 50 == 0:\n",
        "            print(epoch,'epoch, loss:',total_loss)\n",
        "    losses.append(total_loss)\n",
        "\n"
      ],
      "execution_count": 26,
      "outputs": [
        {
          "output_type": "stream",
          "text": [
            "0 epoch, loss: 1500.613350868225\n",
            "50 epoch, loss: 53.371883419800724\n",
            "100 epoch, loss: 41.42042637194436\n",
            "150 epoch, loss: 37.618227041929835\n",
            "200 epoch, loss: 35.72132707773681\n",
            "250 epoch, loss: 34.362096080254524\n",
            "300 epoch, loss: 33.697111816609684\n"
          ],
          "name": "stdout"
        }
      ]
    },
    {
      "cell_type": "markdown",
      "metadata": {
        "id": "scwXKgsUUza4"
      },
      "source": [
        "# References  \n",
        "[1] https://pytorch.org/tutorials/beginner/nlp/word_embeddings_tutorial#an-example-n-gram-language-modeling"
      ]
    }
  ]
}