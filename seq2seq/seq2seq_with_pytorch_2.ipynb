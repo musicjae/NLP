{
  "nbformat": 4,
  "nbformat_minor": 0,
  "metadata": {
    "colab": {
      "name": "seq2seq with pytorch 2.ipynb",
      "provenance": [],
      "authorship_tag": "ABX9TyNpvZKYN1pw9DKz9yoCYX/d",
      "include_colab_link": true
    },
    "kernelspec": {
      "name": "python3",
      "display_name": "Python 3"
    },
    "accelerator": "GPU"
  },
  "cells": [
    {
      "cell_type": "markdown",
      "metadata": {
        "id": "view-in-github",
        "colab_type": "text"
      },
      "source": [
        "<a href=\"https://colab.research.google.com/github/musicjae/NLP/blob/master/seq2seq/seq2seq_with_pytorch_2.ipynb\" target=\"_parent\"><img src=\"https://colab.research.google.com/assets/colab-badge.svg\" alt=\"Open In Colab\"/></a>"
      ]
    },
    {
      "cell_type": "code",
      "metadata": {
        "id": "TSkatV4Ii6sX",
        "outputId": "c2356ec3-65b7-4cdf-f227-43a1b79afae7",
        "colab": {
          "resources": {
            "http://localhost:8080/nbextensions/google.colab/files.js": {
              "data": "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",
              "ok": true,
              "headers": [
                [
                  "content-type",
                  "application/javascript"
                ]
              ],
              "status": 200,
              "status_text": ""
            }
          },
          "base_uri": "https://localhost:8080/",
          "height": 90
        }
      },
      "source": [
        "from google.colab import files\n",
        "uploaded = files.upload() # 파일 업로드 기능 실행\n",
        "\n",
        "for fn in uploaded.keys(): # 업로드된 파일 정보 출력\n",
        "    print('User uploaded file \"{name}\" with length {length} bytes'.format(\n",
        "        name=fn, length=len(uploaded[fn])))"
      ],
      "execution_count": 36,
      "outputs": [
        {
          "output_type": "display_data",
          "data": {
            "text/html": [
              "\n",
              "     <input type=\"file\" id=\"files-1bd5c88d-7b5d-4672-a0c6-e3c3eec01edb\" name=\"files[]\" multiple disabled\n",
              "        style=\"border:none\" />\n",
              "     <output id=\"result-1bd5c88d-7b5d-4672-a0c6-e3c3eec01edb\">\n",
              "      Upload widget is only available when the cell has been executed in the\n",
              "      current browser session. Please rerun this cell to enable.\n",
              "      </output>\n",
              "      <script src=\"/nbextensions/google.colab/files.js\"></script> "
            ],
            "text/plain": [
              "<IPython.core.display.HTML object>"
            ]
          },
          "metadata": {
            "tags": []
          }
        },
        {
          "output_type": "stream",
          "text": [
            "Saving 22.png to 22.png\n",
            "User uploaded file \"22.png\" with length 77922 bytes\n"
          ],
          "name": "stdout"
        }
      ]
    },
    {
      "cell_type": "code",
      "metadata": {
        "id": "aNiFuHxti8y9"
      },
      "source": [
        "from IPython.display import Image"
      ],
      "execution_count": 37,
      "outputs": []
    },
    {
      "cell_type": "markdown",
      "metadata": {
        "id": "nHterbg1KIsc"
      },
      "source": [
        "# 0. 데이터 준비"
      ]
    },
    {
      "cell_type": "markdown",
      "metadata": {
        "id": "z-McjiCZKNly"
      },
      "source": [
        "라벨을 가진 트레이닝 데이터를 준비하자. Torchtext를 사용하면 편리하다. 여기 있는 Multi30k는 다양한 언어의 번역 쌍 (번역 작업에 상응하는 소스 언어와 타겟 언어가 있어)이 있다.  \n",
        "우리는 먼저 우리의 데이터를 토큰화 하기 위해 spacy를 사용한다."
      ]
    },
    {
      "cell_type": "code",
      "metadata": {
        "id": "W30r04HzKoMv"
      },
      "source": [
        "import torch\n",
        "import torch.nn as nn\n",
        "import torch.optim as optim\n",
        "\n",
        "import spacy\n",
        "import numpy as np\n",
        "\n",
        "import random\n",
        "import math\n",
        "import time\n",
        "\n",
        "from torchtext.datasets import TranslationDataset, Multi30k\n",
        "from torchtext.data import Field, BucketIterator  "
      ],
      "execution_count": 4,
      "outputs": []
    },
    {
      "cell_type": "code",
      "metadata": {
        "id": "jvFk4Hq_84wP"
      },
      "source": [
        "import matplotlib.pyplot as plt"
      ],
      "execution_count": 5,
      "outputs": []
    },
    {
      "cell_type": "code",
      "metadata": {
        "id": "yYHl2W-OL4Jc",
        "outputId": "db90e84f-502a-484c-afff-f5bc537c2ae9",
        "colab": {
          "base_uri": "https://localhost:8080/",
          "height": 649
        }
      },
      "source": [
        "!python -m spacy download de"
      ],
      "execution_count": 7,
      "outputs": [
        {
          "output_type": "stream",
          "text": [
            "Collecting de_core_news_sm==2.2.5\n",
            "\u001b[?25l  Downloading https://github.com/explosion/spacy-models/releases/download/de_core_news_sm-2.2.5/de_core_news_sm-2.2.5.tar.gz (14.9MB)\n",
            "\u001b[K     |████████████████████████████████| 14.9MB 1.1MB/s \n",
            "\u001b[?25hRequirement already satisfied: spacy>=2.2.2 in /usr/local/lib/python3.6/dist-packages (from de_core_news_sm==2.2.5) (2.2.4)\n",
            "Requirement already satisfied: blis<0.5.0,>=0.4.0 in /usr/local/lib/python3.6/dist-packages (from spacy>=2.2.2->de_core_news_sm==2.2.5) (0.4.1)\n",
            "Requirement already satisfied: numpy>=1.15.0 in /usr/local/lib/python3.6/dist-packages (from spacy>=2.2.2->de_core_news_sm==2.2.5) (1.18.5)\n",
            "Requirement already satisfied: setuptools in /usr/local/lib/python3.6/dist-packages (from spacy>=2.2.2->de_core_news_sm==2.2.5) (50.3.0)\n",
            "Requirement already satisfied: catalogue<1.1.0,>=0.0.7 in /usr/local/lib/python3.6/dist-packages (from spacy>=2.2.2->de_core_news_sm==2.2.5) (1.0.0)\n",
            "Requirement already satisfied: requests<3.0.0,>=2.13.0 in /usr/local/lib/python3.6/dist-packages (from spacy>=2.2.2->de_core_news_sm==2.2.5) (2.23.0)\n",
            "Requirement already satisfied: cymem<2.1.0,>=2.0.2 in /usr/local/lib/python3.6/dist-packages (from spacy>=2.2.2->de_core_news_sm==2.2.5) (2.0.3)\n",
            "Requirement already satisfied: srsly<1.1.0,>=1.0.2 in /usr/local/lib/python3.6/dist-packages (from spacy>=2.2.2->de_core_news_sm==2.2.5) (1.0.2)\n",
            "Requirement already satisfied: plac<1.2.0,>=0.9.6 in /usr/local/lib/python3.6/dist-packages (from spacy>=2.2.2->de_core_news_sm==2.2.5) (1.1.3)\n",
            "Requirement already satisfied: tqdm<5.0.0,>=4.38.0 in /usr/local/lib/python3.6/dist-packages (from spacy>=2.2.2->de_core_news_sm==2.2.5) (4.41.1)\n",
            "Requirement already satisfied: wasabi<1.1.0,>=0.4.0 in /usr/local/lib/python3.6/dist-packages (from spacy>=2.2.2->de_core_news_sm==2.2.5) (0.8.0)\n",
            "Requirement already satisfied: thinc==7.4.0 in /usr/local/lib/python3.6/dist-packages (from spacy>=2.2.2->de_core_news_sm==2.2.5) (7.4.0)\n",
            "Requirement already satisfied: preshed<3.1.0,>=3.0.2 in /usr/local/lib/python3.6/dist-packages (from spacy>=2.2.2->de_core_news_sm==2.2.5) (3.0.2)\n",
            "Requirement already satisfied: murmurhash<1.1.0,>=0.28.0 in /usr/local/lib/python3.6/dist-packages (from spacy>=2.2.2->de_core_news_sm==2.2.5) (1.0.2)\n",
            "Requirement already satisfied: importlib-metadata>=0.20; python_version < \"3.8\" in /usr/local/lib/python3.6/dist-packages (from catalogue<1.1.0,>=0.0.7->spacy>=2.2.2->de_core_news_sm==2.2.5) (2.0.0)\n",
            "Requirement already satisfied: chardet<4,>=3.0.2 in /usr/local/lib/python3.6/dist-packages (from requests<3.0.0,>=2.13.0->spacy>=2.2.2->de_core_news_sm==2.2.5) (3.0.4)\n",
            "Requirement already satisfied: urllib3!=1.25.0,!=1.25.1,<1.26,>=1.21.1 in /usr/local/lib/python3.6/dist-packages (from requests<3.0.0,>=2.13.0->spacy>=2.2.2->de_core_news_sm==2.2.5) (1.24.3)\n",
            "Requirement already satisfied: idna<3,>=2.5 in /usr/local/lib/python3.6/dist-packages (from requests<3.0.0,>=2.13.0->spacy>=2.2.2->de_core_news_sm==2.2.5) (2.10)\n",
            "Requirement already satisfied: certifi>=2017.4.17 in /usr/local/lib/python3.6/dist-packages (from requests<3.0.0,>=2.13.0->spacy>=2.2.2->de_core_news_sm==2.2.5) (2020.6.20)\n",
            "Requirement already satisfied: zipp>=0.5 in /usr/local/lib/python3.6/dist-packages (from importlib-metadata>=0.20; python_version < \"3.8\"->catalogue<1.1.0,>=0.0.7->spacy>=2.2.2->de_core_news_sm==2.2.5) (3.2.0)\n",
            "Building wheels for collected packages: de-core-news-sm\n",
            "  Building wheel for de-core-news-sm (setup.py) ... \u001b[?25l\u001b[?25hdone\n",
            "  Created wheel for de-core-news-sm: filename=de_core_news_sm-2.2.5-cp36-none-any.whl size=14907056 sha256=d01a017d37157026ba1062d14bad36fff911828aebb0a2d1f84ad6db8dd66e24\n",
            "  Stored in directory: /tmp/pip-ephem-wheel-cache-v4zjnxtp/wheels/ba/3f/ed/d4aa8e45e7191b7f32db4bfad565e7da1edbf05c916ca7a1ca\n",
            "Successfully built de-core-news-sm\n",
            "Installing collected packages: de-core-news-sm\n",
            "Successfully installed de-core-news-sm-2.2.5\n",
            "\u001b[38;5;2m✔ Download and installation successful\u001b[0m\n",
            "You can now load the model via spacy.load('de_core_news_sm')\n",
            "\u001b[38;5;2m✔ Linking successful\u001b[0m\n",
            "/usr/local/lib/python3.6/dist-packages/de_core_news_sm -->\n",
            "/usr/local/lib/python3.6/dist-packages/spacy/data/de\n",
            "You can now load the model via spacy.load('de')\n"
          ],
          "name": "stdout"
        }
      ]
    },
    {
      "cell_type": "code",
      "metadata": {
        "id": "fatOCEjbKFVZ"
      },
      "source": [
        "spacy_german = spacy.load('de')\n",
        "spacy_english = spacy.load('en')"
      ],
      "execution_count": 8,
      "outputs": []
    },
    {
      "cell_type": "markdown",
      "metadata": {
        "id": "8MYDSWzPLT-h"
      },
      "source": [
        "## 1.1 문장 토큰화"
      ]
    },
    {
      "cell_type": "code",
      "metadata": {
        "id": "3kG8JSa2MaTy"
      },
      "source": [
        "def tok_ger(text):\n",
        "\n",
        "    return [token.text for token in spacy_german.tokenizer(text)]\n",
        "\n",
        "def tok_eng(text):\n",
        "\n",
        "    return [token.text for token in spacy_english.tokenizer(text)][::-1] # source sentence의 역순 입력은 퍼포먼스 향상에 도움을 준다. (이전 세미나에서 이것을 언급했었다.)"
      ],
      "execution_count": 9,
      "outputs": []
    },
    {
      "cell_type": "code",
      "metadata": {
        "id": "Bzs3wtO4M3EZ"
      },
      "source": [
        "SOURCE = Field(tokenize= tok_eng, init_token='<sos>',eos_token='<eos>',lower=True)\n",
        "TARGET = Field(tokenize = tok_ger, init_token='<sos>',eos_token='<eos>',lower=True)"
      ],
      "execution_count": 10,
      "outputs": []
    },
    {
      "cell_type": "markdown",
      "metadata": {
        "id": "JNJWPLNPNcP-"
      },
      "source": [
        "##1.2 데이터 분리"
      ]
    },
    {
      "cell_type": "code",
      "metadata": {
        "id": "RysFmK4fNeWX",
        "outputId": "4605dc8a-672d-44f0-91dc-7460109bdc4c",
        "colab": {
          "base_uri": "https://localhost:8080/",
          "height": 119
        }
      },
      "source": [
        "train_data,valid_data,test_data = Multi30k.splits(exts=('.en','.de'), fields=(SOURCE,TARGET))"
      ],
      "execution_count": 11,
      "outputs": [
        {
          "output_type": "stream",
          "text": [
            "downloading training.tar.gz\n"
          ],
          "name": "stdout"
        },
        {
          "output_type": "stream",
          "text": [
            "training.tar.gz: 100%|██████████| 1.21M/1.21M [00:02<00:00, 562kB/s]\n"
          ],
          "name": "stderr"
        },
        {
          "output_type": "stream",
          "text": [
            "downloading validation.tar.gz\n"
          ],
          "name": "stdout"
        },
        {
          "output_type": "stream",
          "text": [
            "validation.tar.gz: 100%|██████████| 46.3k/46.3k [00:00<00:00, 171kB/s]\n"
          ],
          "name": "stderr"
        },
        {
          "output_type": "stream",
          "text": [
            "downloading mmt_task1_test2016.tar.gz\n"
          ],
          "name": "stdout"
        },
        {
          "output_type": "stream",
          "text": [
            "mmt_task1_test2016.tar.gz: 100%|██████████| 66.2k/66.2k [00:00<00:00, 163kB/s]\n"
          ],
          "name": "stderr"
        }
      ]
    },
    {
      "cell_type": "markdown",
      "metadata": {
        "id": "1QJzeA8BOJkv"
      },
      "source": [
        "이제껏 작성한 것들이 잘 되었는지 보자."
      ]
    },
    {
      "cell_type": "code",
      "metadata": {
        "id": "LkvXLqw6OH84",
        "outputId": "098aba7d-f602-41b7-a02b-09679b5f9bbc",
        "colab": {
          "base_uri": "https://localhost:8080/",
          "height": 51
        }
      },
      "source": [
        "print(train_data.examples[0].src) # src = source\n",
        "print(train_data.examples[0].trg) # trg = target"
      ],
      "execution_count": 22,
      "outputs": [
        {
          "output_type": "stream",
          "text": [
            "['.', 'bushes', 'many', 'near', 'outside', 'are', 'males', 'white', ',', 'young', 'two']\n",
            "['zwei', 'junge', 'weiße', 'männer', 'sind', 'im', 'freien', 'in', 'der', 'nähe', 'vieler', 'büsche', '.']\n"
          ],
          "name": "stdout"
        }
      ]
    },
    {
      "cell_type": "code",
      "metadata": {
        "id": "Piw98ziJOZX9",
        "outputId": "68980540-ed54-4915-dbdf-f4b0750ea2ea",
        "colab": {
          "base_uri": "https://localhost:8080/",
          "height": 68
        }
      },
      "source": [
        "print(\"Training dataset size: \" + str(len(train_data.examples)))\n",
        "print(\"Validation dataset size: \" + str(len(valid_data.examples)))\n",
        "print(\"Test dataset size: \" + str(len(test_data.examples)))"
      ],
      "execution_count": 23,
      "outputs": [
        {
          "output_type": "stream",
          "text": [
            "Training dataset size: 29000\n",
            "Validation dataset size: 1014\n",
            "Test dataset size: 1000\n"
          ],
          "name": "stdout"
        }
      ]
    },
    {
      "cell_type": "markdown",
      "metadata": {
        "id": "FJkKcg6uWzyw"
      },
      "source": [
        "## 1.3 Vocabulary (단어 집합)과 그 크기\n"
      ]
    },
    {
      "cell_type": "markdown",
      "metadata": {
        "id": "-gs3i_7HW8Yl"
      },
      "source": [
        "독일어 단어 집합이 영어 단어 집합 보다 더 클 것이다. 우리가 가진 단어 집합은 원래의 사전 단어 집합 보다 훨씬 더 작다. 따라서 우리의 이 작은 단어 집합을 영어 내의 모든 가능한 문장으로 일반화 시키는 것은 기대하기 어렵다."
      ]
    },
    {
      "cell_type": "code",
      "metadata": {
        "id": "3-WENdTAXWAH",
        "outputId": "4fa65b3c-5a75-4b55-e94f-dc4757c46ffa",
        "colab": {
          "base_uri": "https://localhost:8080/",
          "height": 51
        }
      },
      "source": [
        "SOURCE.build_vocab(train_data, min_freq=2)\n",
        "TARGET.build_vocab(train_data,min_freq=2)\n",
        "\n",
        "print(\"English (source) vocab size: \" + str(len(SOURCE.vocab)))\n",
        "print(\"German (target) vocab size: \" + str(len(TARGET.vocab)))"
      ],
      "execution_count": 12,
      "outputs": [
        {
          "output_type": "stream",
          "text": [
            "English (source) vocab size: 5893\n",
            "German (target) vocab size: 7855\n"
          ],
          "name": "stdout"
        }
      ]
    },
    {
      "cell_type": "markdown",
      "metadata": {
        "id": "YNp7cM2bXx5x"
      },
      "source": [
        "## 1.4 data iterators  \n",
        "\n",
        "마지막으로, 데이터셋에서 data iterators를 만들자."
      ]
    },
    {
      "cell_type": "code",
      "metadata": {
        "id": "mQpdhk3RX-rG"
      },
      "source": [
        "device = torch.device('cuda' if torch.cuda.is_available() else 'cpu')\n",
        "batch_size = 32\n",
        "\n",
        "train_iterator, valid_iterator, test_iterator = BucketIterator.splits((train_data, valid_data, test_data), batch_size=batch_size, device=device)"
      ],
      "execution_count": 13,
      "outputs": []
    },
    {
      "cell_type": "markdown",
      "metadata": {
        "id": "RY12FAzAYYUo"
      },
      "source": [
        "# 2. Encoder \n",
        "  \n",
        "이제 인코더를 만들어보자.   \n",
        "\n",
        "Encoder\n",
        "\n",
        "- (1) 먼저, nn.Module 클래스를 이용하여 모델을 초기화해보자.  \n",
        "- (2) 임베딩 계층을 정의 Emb(입력 차원, 임베딩 차원)  \n",
        "- (3) LSTM 계층 정의.  \n",
        " > 입력값인 자연어(Source language) $\\to$ 임베딩 계층 $\\to$ 임베디드 문장 $\\to$ LSTM 계층 $\\to$ 은닉 상태 벡터  \n",
        "\n",
        "- (4) Forward Pass  \n",
        " > - source 문장 임베딩 & 드롭아웃 적용  \n",
        "  - LSTM 계층 패스  \n",
        "  - 마지막 은닉 상태 벡터 출력"
      ]
    },
    {
      "cell_type": "code",
      "metadata": {
        "id": "wUGS0QVmYjBH"
      },
      "source": [
        "class Encoder(nn.Module):\n",
        "\n",
        "    def __init__(self, input_dims, emb_dims, hid_dims, n_layers, dropout):\n",
        "\n",
        "        super().__init__()\n",
        "        self.hid_dims = hid_dims\n",
        "        self.n_layers = n_layers\n",
        "        self.embedding = nn.Embedding(input_dims, emb_dims)\n",
        "        self.rnn = nn.LSTM(emb_dims, hid_dims, n_layers, dropout=dropout)\n",
        "        self.dropout = nn.Dropout(dropout)\n",
        "\n",
        "    def forward(self, src):\n",
        "\n",
        "        embedded = self.dropout(self.embedding(src))\n",
        "        outputs, (h,cell) = self.rnn(embedded)\n",
        "\n",
        "        return h, cell"
      ],
      "execution_count": 14,
      "outputs": []
    },
    {
      "cell_type": "markdown",
      "metadata": {
        "id": "FEBC2oX6b0jd"
      },
      "source": [
        "우리는 이번 실험에서 2 개의 LSTM layers 만을 사용할 것이다. 즉 나는 `n_layers=2`를 입력할 것이다. 이것은 우리의 모델이 **2 개의 hidden states만**을 출력한다는 것을 함의한다."
      ]
    },
    {
      "cell_type": "markdown",
      "metadata": {
        "id": "YPswzKtocKhs"
      },
      "source": [
        "# 3. Decoder"
      ]
    },
    {
      "cell_type": "markdown",
      "metadata": {
        "id": "09UQrytjcaQc"
      },
      "source": [
        "앞의 Encoder에서 출력되는 final hidden states는 Decoder의 첫 번째 입력값으로 전달된다. Encoder와 Decoder의 구성은 거의 동일하다. 다만 Decoder에서는 마지막에 FC linear layer가 추가된다. 이것은 **문장 내의 correct word에 대한 올바른 예측**을 위해 LSTM으로부터 final hidden states를 사용하는 것이다."
      ]
    },
    {
      "cell_type": "code",
      "metadata": {
        "id": "qo9sPlLbgBdd",
        "outputId": "ab717b6b-e78c-4f98-ada6-65ae807b4ec2",
        "colab": {
          "base_uri": "https://localhost:8080/",
          "height": 51
        }
      },
      "source": [
        "test = torch.Tensor([0,1,2])\n",
        "print(test.shape)\n",
        "\n",
        "test1=test.unsqueeze(0)\n",
        "print(test1.shape)"
      ],
      "execution_count": 77,
      "outputs": [
        {
          "output_type": "stream",
          "text": [
            "torch.Size([3])\n",
            "torch.Size([1, 3])\n"
          ],
          "name": "stdout"
        }
      ]
    },
    {
      "cell_type": "markdown",
      "metadata": {
        "id": "nfK6p0B_hD5T"
      },
      "source": [
        "Forward pass:  \n",
        "  \n",
        "- (1) i이전 layer로부터 전달되는 input을 임베딩 layer에 맞추기 위해 unsqueeze  \n",
        "- (2) fc-layer 추가. 이것은 LSTM 계층의 hidden 층을 산출하고, 해당 문장의 다음 단어를 예측하는 데 사용된다."
      ]
    },
    {
      "cell_type": "code",
      "metadata": {
        "id": "1rqUzwTXcJRv"
      },
      "source": [
        "class Decoder(nn.Module):\n",
        "\n",
        "    def __init__(self, output_dims, emb_dims, hid_dims, n_layers, dropout):\n",
        "\n",
        "        super().__init__()\n",
        "\n",
        "        self.output_dims = output_dims\n",
        "        self.hid_dims = hid_dims\n",
        "        self.n_layers = n_layers\n",
        "        \n",
        "        self.embedding = nn.Embedding(output_dims, emb_dims)\n",
        "        self.rnn = nn.LSTM(emb_dims, hid_dims, n_layers, dropout=dropout)\n",
        "        ############################################################\n",
        "        self.fc_out = nn.Linear(hid_dims, output_dims)\n",
        "        ############################################################\n",
        "        self.dropout = nn.Dropout(dropout)\n",
        "\n",
        "    def forward(self, input, h, cell):\n",
        "\n",
        "        input = input.unsqueeze(0)\n",
        "        embedded = self.dropout(self.embedding(input))\n",
        "        output, (h,cell) = self.rnn(embedded, (h,cell))\n",
        "\n",
        "        pred = self.fc_out(output.squeeze(0))\n",
        "\n",
        "        return pred, h, cell"
      ],
      "execution_count": 15,
      "outputs": []
    },
    {
      "cell_type": "markdown",
      "metadata": {
        "id": "X8GKoOeUh-MY"
      },
      "source": [
        "# 4. seq2seq"
      ]
    },
    {
      "cell_type": "markdown",
      "metadata": {
        "id": "p4JdyeVtiANV"
      },
      "source": [
        "이제, 인코더와 디코더로 구성된 seq2seq 모델을 작성해보자. 말했듯이, seq2seq의 구성은 간략히 말할 때 아래와 같다:  \n",
        "\n",
        "  \n",
        "\n",
        "> Source language inputs --> [ Encoder ] --> final hidden states --> [Decoder] --> Target language outputs"
      ]
    },
    {
      "cell_type": "code",
      "metadata": {
        "id": "x-iqH7xDjAr2",
        "outputId": "e40cbf8d-1eb0-4122-e61f-c75b7e72dbd0",
        "colab": {
          "base_uri": "https://localhost:8080/",
          "height": 383
        }
      },
      "source": [
        "Image('22.png',width=700)"
      ],
      "execution_count": 38,
      "outputs": [
        {
          "output_type": "execute_result",
          "data": {
            "image/png": "[encoded data removed]",
            "text/plain": [
              "<IPython.core.display.Image object>"
            ]
          },
          "metadata": {
            "tags": [],
            "image/png": {
              "width": 700
            }
          },
          "execution_count": 38
        }
      ]
    },
    {
      "cell_type": "markdown",
      "metadata": {
        "id": "IYdEPBAajWwy"
      },
      "source": [
        "**seq2seq:**\n",
        "  \n",
        "-  인코더 + 디코더  \n",
        "- 교사 강요 teacher forcing 사용 (모델 학습을 돕는다)  \n",
        "  \n",
        "**절차:**  \n",
        "  \n",
        "- (1) 예측을 저장하는 텐서 생성  \n",
        "- (2) (1)을 전부 0으로 채워진 텐서로 초기화\n",
        "- (3) 예측을 통해 (2)에서 초기화된 텐서를 업데이트  \n",
        "  \n",
        "**크기:**  \n",
        "  \n",
        "위에서 초기화된 예측-텐서의 크기: (타겟 문장의 length, 배치 사이즈의 width, 타겟 단어 집합 크기의 depth)"
      ]
    },
    {
      "cell_type": "code",
      "metadata": {
        "id": "6kmlUxoxnZ_y",
        "outputId": "7d3f4d6d-0462-4afc-ec47-67b48a277805",
        "colab": {
          "base_uri": "https://localhost:8080/",
          "height": 68
        }
      },
      "source": [
        "out = np.array([[1,2,3,4],[2,3,4,5]])\n",
        "print(out)\n",
        "print(out.argmax(1))"
      ],
      "execution_count": 51,
      "outputs": [
        {
          "output_type": "stream",
          "text": [
            "[[1 2 3 4]\n",
            " [2 3 4 5]]\n",
            "[3 3]\n"
          ],
          "name": "stdout"
        }
      ]
    },
    {
      "cell_type": "code",
      "metadata": {
        "id": "ON-CBIhjjHSR"
      },
      "source": [
        "class Seq2Seq(nn.Module):\n",
        "\n",
        "    def __init__(self, encoder, decoder, device):\n",
        "\n",
        "        super().__init__()\n",
        "\n",
        "        self.encoder = encoder\n",
        "        self.decoder = decoder\n",
        "        self.device = device\n",
        "\n",
        "    def forward(self, src, trg, teacher_forcing_rate=0.5):\n",
        "\n",
        "        target_length = trg.shape[0]\n",
        "        batch_size = trg.shape[1]\n",
        "        target_vocab_size = self.decoder.output_dims\n",
        "\n",
        "        outputs = torch.zeros(target_length, batch_size, target_vocab_size).to(self.device) # 예측을 저장할 텐서를 0으로 초기화\n",
        "\n",
        "        # input sentence --> Encoder --> h, cell\n",
        "        h, cell = self.encoder(src)\n",
        "\n",
        "        # output 시퀀스에서 각 step에 대한 예측을 하기 위해 decoder를 loop해보자.\n",
        "        # 첫 시작은 <sos>. 이미 이것이 TARGET에 포함되어 있다. 섹션 1.1 참고하라.\n",
        "        input=trg[0,:]\n",
        "\n",
        "        for t in range(1, target_length): # trg[0]은 <sos>이고, 우리가 관심이 있는 것은 예측되는 단어인 trg[1]부터다.\n",
        "\n",
        "            output, h, cell = self.decoder(input, h, cell)\n",
        "            outputs[t] = output\n",
        "\n",
        "            top = output.argmax(1) # 각 t에, Decoder에서 출력된 2차원 형태의 output에서 가장 큰 수의 index 반환\n",
        "\n",
        "            input = trg[t] if (random.random() < teacher_forcing_rate) else top\n",
        "\n",
        "        return outputs"
      ],
      "execution_count": 16,
      "outputs": []
    },
    {
      "cell_type": "code",
      "metadata": {
        "id": "oqOM4QfksHpN",
        "outputId": "7deba5f2-48fe-4f0b-a2de-ee8d768cd810",
        "colab": {
          "base_uri": "https://localhost:8080/",
          "height": 34
        }
      },
      "source": [
        "input_dimensions = len(SOURCE.vocab)\n",
        "output_dimensions = len(TARGET.vocab)\n",
        "print(input_dimensions, output_dimensions)\n",
        "encoder_embedding_dimensions = 256\n",
        "decoder_embedding_dimensions = 256\n",
        "hidden_layer_dimensions = 512\n",
        "number_of_layers = 2\n",
        "encoder_dropout = 0.5\n",
        "decoder_dropout = 0.5"
      ],
      "execution_count": 17,
      "outputs": [
        {
          "output_type": "stream",
          "text": [
            "5893 7855\n"
          ],
          "name": "stdout"
        }
      ]
    },
    {
      "cell_type": "code",
      "metadata": {
        "id": "YBU7bRBGsS6d",
        "outputId": "23d6bb74-03d6-45b6-8d07-ed695fb78bc3",
        "colab": {
          "base_uri": "https://localhost:8080/",
          "height": 238
        }
      },
      "source": [
        "encod = Encoder(input_dimensions,\n",
        "                encoder_embedding_dimensions,\n",
        "                hidden_layer_dimensions,\n",
        "                number_of_layers,\n",
        "                encoder_dropout)\n",
        "\n",
        "decod = Decoder(output_dimensions,\n",
        "                decoder_embedding_dimensions,\n",
        "                hidden_layer_dimensions,\n",
        "                number_of_layers,\n",
        "                decoder_dropout)\n",
        "\n",
        "model = Seq2Seq(encod, decod, device).to(device)\n",
        "model.type"
      ],
      "execution_count": 18,
      "outputs": [
        {
          "output_type": "execute_result",
          "data": {
            "text/plain": [
              "<bound method Module.type of Seq2Seq(\n",
              "  (encoder): Encoder(\n",
              "    (embedding): Embedding(5893, 256)\n",
              "    (rnn): LSTM(256, 512, num_layers=2, dropout=0.5)\n",
              "    (dropout): Dropout(p=0.5, inplace=False)\n",
              "  )\n",
              "  (decoder): Decoder(\n",
              "    (embedding): Embedding(7855, 256)\n",
              "    (rnn): LSTM(256, 512, num_layers=2, dropout=0.5)\n",
              "    (fc_out): Linear(in_features=512, out_features=7855, bias=True)\n",
              "    (dropout): Dropout(p=0.5, inplace=False)\n",
              "  )\n",
              ")>"
            ]
          },
          "metadata": {
            "tags": []
          },
          "execution_count": 18
        }
      ]
    },
    {
      "cell_type": "markdown",
      "metadata": {
        "id": "9PxnJBCXt23i"
      },
      "source": [
        "# 5. 모델 훈련시키기"
      ]
    },
    {
      "cell_type": "markdown",
      "metadata": {
        "id": "mHRYx1VYt50v"
      },
      "source": [
        "## 5.1 초기화  \n",
        "  \n",
        "현재 우리 모델은 모든 부분에 0의 가중치로 초기화했다. random으로 초기화 하는 것은 학습에 도움을 줄 수 있다. 여기서 우리는 우리의 모델을 random 가중치를 부여하여 학습시킬 것이다."
      ]
    },
    {
      "cell_type": "code",
      "metadata": {
        "id": "xGMMUrbet2Qb",
        "outputId": "cdc944c5-2ff6-4b07-a1b1-c9a0aa36860b",
        "colab": {
          "base_uri": "https://localhost:8080/",
          "height": 238
        }
      },
      "source": [
        "def initialize_weights(m):\n",
        "\n",
        "    for name, param in m.named_parameters():\n",
        "        nn.init.uniform_(param.data, -0.1, 0.1)# -0.1 에서 0.1로 초기화\n",
        "\n",
        "model.apply(initialize_weights)"
      ],
      "execution_count": 19,
      "outputs": [
        {
          "output_type": "execute_result",
          "data": {
            "text/plain": [
              "Seq2Seq(\n",
              "  (encoder): Encoder(\n",
              "    (embedding): Embedding(5893, 256)\n",
              "    (rnn): LSTM(256, 512, num_layers=2, dropout=0.5)\n",
              "    (dropout): Dropout(p=0.5, inplace=False)\n",
              "  )\n",
              "  (decoder): Decoder(\n",
              "    (embedding): Embedding(7855, 256)\n",
              "    (rnn): LSTM(256, 512, num_layers=2, dropout=0.5)\n",
              "    (fc_out): Linear(in_features=512, out_features=7855, bias=True)\n",
              "    (dropout): Dropout(p=0.5, inplace=False)\n",
              "  )\n",
              ")"
            ]
          },
          "metadata": {
            "tags": []
          },
          "execution_count": 19
        }
      ]
    },
    {
      "cell_type": "markdown",
      "metadata": {
        "id": "iGdFPCY1vHG5"
      },
      "source": [
        "## 5.2 Optimizer, Loss functions  \n",
        "  \n",
        "- multi-class 분류를 수행하는 cross-entropy loss 사용  \n",
        "- cs231n에서 좋은 성능을 제공한다고 알려진 Adam 을 optimizer로 사용"
      ]
    },
    {
      "cell_type": "code",
      "metadata": {
        "id": "Xj-iWKTCvZML"
      },
      "source": [
        "optimizer = optim.Adam(model.parameters())\n",
        "\n",
        "criterion = nn.CrossEntropyLoss(ignore_index=TARGET.vocab.stoi[TARGET.pad_token]) "
      ],
      "execution_count": 20,
      "outputs": []
    },
    {
      "cell_type": "markdown",
      "metadata": {
        "id": "Mas4obv2v4fi"
      },
      "source": [
        "## 5.3 Train"
      ]
    },
    {
      "cell_type": "code",
      "metadata": {
        "id": "-FCatAlZv58f"
      },
      "source": [
        "def train(model, iterator, optimizer, criterion, clip):\n",
        "\n",
        "    model.train()\n",
        "    epoch_loss = 0 # init\n",
        "\n",
        "    for i, batch in enumerate(iterator):\n",
        "\n",
        "        src = batch.src # loop 내에서 번역된 src를 추출하고, 이 문장의 정답 번역인 trc도 추출한다.\n",
        "        trg = batch.trg\n",
        "        optimizer.zero_grad()\n",
        "        output=model(src,trg) # 모델을 통해 output 계산\n",
        "\n",
        "        # \"예측 문장과 정답 문장을 비교함으로싸\" 모델의 예측에 대한 loss를 계산\n",
        "        ## loss를 비교하게 해주는 2 개의 텐서를 만들기 위해 크기 재조정\n",
        "        output_dims = output.shape[-1]\n",
        "        output = output[1:].view(-1,output_dims)\n",
        "        trg = trg[1:].view(-1)\n",
        "\n",
        "        loss = criterion(output,trg)\n",
        "        loss.backward()\n",
        "\n",
        "        # grad exploding을 막기 위해 clipping\n",
        "        torch.nn.utils.clip_grad_norm_(model.parameters(),clip)\n",
        "\n",
        "        #grad descent를 통해 params 업데이트를 수행하기 위해 step 마다 최적화 실행\n",
        "        optimizer.step()\n",
        "        epoch_loss += loss.item()\n",
        "\n",
        "    return epoch_loss / len(iterator)\n"
      ],
      "execution_count": 21,
      "outputs": []
    },
    {
      "cell_type": "markdown",
      "metadata": {
        "id": "_sOS_7_s5VRq"
      },
      "source": [
        "# 6. 평가  \n",
        "  \n",
        "얼마나 모델이 이전에 본 적 없는 data를 번역할 때 잘 수행하는지 평가하기 위해 network에서 검증 데이터의 손실을 계산해보자. 이것은 위의 `def train()`과 거의 비슷하다.\n",
        "\n"
      ]
    },
    {
      "cell_type": "code",
      "metadata": {
        "id": "Ewm5ndWN5x6m"
      },
      "source": [
        "def evaluate(model, iterator, criterion):\n",
        "\n",
        "    model.eval()\n",
        "    epoch_loss = 0\n",
        "\n",
        "    with torch.no_grad(): # 우리는 여기서 가중치weight를 업데이트하지 않기 때문에, 이와 같이 기술한다.\n",
        "\n",
        "        for i,batch in enumerate(iterator):\n",
        "\n",
        "            src = batch.src\n",
        "            trg = batch.trg\n",
        "\n",
        "            output = model(src,trg,0) # teacher forcing 을 off. 왜냐하면 우리는 이 검증 작업에서 unseen data에 대한 모델의 수행 능력을 평가하고 싶기 때문.\n",
        "            output_dim = output.shape[-1]\n",
        "\n",
        "            output = output[1:].view(-1, output_dim)\n",
        "            trg = trg[1:].view(-1)\n",
        "\n",
        "            loss = criterion(output, trg)\n",
        "            \n",
        "            epoch_loss += loss.item()\n",
        "\n",
        "        return epoch_loss / len(iterator)"
      ],
      "execution_count": 22,
      "outputs": []
    },
    {
      "cell_type": "markdown",
      "metadata": {
        "id": "IO2UsNSD6zUM"
      },
      "source": [
        "# 7. Loss 계산"
      ]
    },
    {
      "cell_type": "code",
      "metadata": {
        "id": "cILaFS-T7UM2"
      },
      "source": [
        "epochs = 10\n",
        "grad_clip = 1\n",
        "lowest_validation_loss = float('inf') # 가장 낮은 검증 data에 대한 loss를 제한하지 않는다."
      ],
      "execution_count": 23,
      "outputs": []
    },
    {
      "cell_type": "code",
      "metadata": {
        "id": "48GE3Vl47lNc",
        "outputId": "4f9851d2-0604-4b60-b4ac-1540325f3dd0",
        "colab": {
          "base_uri": "https://localhost:8080/",
          "height": 789
        }
      },
      "source": [
        "\n",
        "train_losses=[]\n",
        "valid_losses=[]\n",
        "\n",
        "for epoch in range(epochs):\n",
        "\n",
        "    start_time = time.time()\n",
        "\n",
        "    train_loss = train(model,train_iterator, optimizer, criterion, grad_clip)\n",
        "    valid_loss = evaluate(model, valid_iterator, criterion)\n",
        "\n",
        "    end_time = time.time()\n",
        "\n",
        "    if valid_loss < lowest_validation_loss:\n",
        "        lowest_validation_loss = valid_loss\n",
        "        torch.save(model.state_dict(), 'seq2seq.pt')\n",
        "    \n",
        "    print(f'Epoch: {epoch+1:02} | Time: {np.round(end_time-start_time,0)}s')\n",
        "    print(f'\\tTrain Loss: {train_loss:.4f}')\n",
        "    print(f'\\t Val. Loss: {valid_loss:.4f}')\n",
        "    train_losses.append(train_loss)\n",
        "    valid_losses.append(valid_loss)\n",
        "\n",
        "plt.plot(range(10), train_losses,'-r')\n",
        "plt.plot(range(10),valid_losses,'-b')\n",
        "plt.xlabel('Epoch')\n",
        "plt.ylabel('Loss')\n",
        "plt.show()"
      ],
      "execution_count": 24,
      "outputs": [
        {
          "output_type": "stream",
          "text": [
            "Epoch: 01 | Time: 55.0s\n",
            "\tTrain Loss: 4.6948\n",
            "\t Val. Loss: 4.6000\n",
            "Epoch: 02 | Time: 54.0s\n",
            "\tTrain Loss: 3.9916\n",
            "\t Val. Loss: 4.3425\n",
            "Epoch: 03 | Time: 55.0s\n",
            "\tTrain Loss: 3.6545\n",
            "\t Val. Loss: 4.0754\n",
            "Epoch: 04 | Time: 55.0s\n",
            "\tTrain Loss: 3.3843\n",
            "\t Val. Loss: 3.9144\n",
            "Epoch: 05 | Time: 55.0s\n",
            "\tTrain Loss: 3.1837\n",
            "\t Val. Loss: 3.8081\n",
            "Epoch: 06 | Time: 54.0s\n",
            "\tTrain Loss: 3.0250\n",
            "\t Val. Loss: 3.7646\n",
            "Epoch: 07 | Time: 55.0s\n",
            "\tTrain Loss: 2.8677\n",
            "\t Val. Loss: 3.6693\n",
            "Epoch: 08 | Time: 55.0s\n",
            "\tTrain Loss: 2.7280\n",
            "\t Val. Loss: 3.6242\n",
            "Epoch: 09 | Time: 54.0s\n",
            "\tTrain Loss: 2.5961\n",
            "\t Val. Loss: 3.6763\n",
            "Epoch: 10 | Time: 54.0s\n",
            "\tTrain Loss: 2.4804\n",
            "\t Val. Loss: 3.6236\n"
          ],
          "name": "stdout"
        },
        {
          "output_type": "display_data",
          "data": {
            "image/png": "[encoded data removed]",
            "text/plain": [
              "<Figure size 432x288 with 1 Axes>"
            ]
          },
          "metadata": {
            "tags": [],
            "needs_background": "light"
          }
        }
      ]
    },
    {
      "cell_type": "markdown",
      "metadata": {
        "id": "8yrPbJRDsxed"
      },
      "source": [
        "학습을 통해 우리는 모델의 train loss 와 eval loss 모두 떨어지는 것을 볼 수 있다."
      ]
    },
    {
      "cell_type": "markdown",
      "metadata": {
        "id": "pHMrs8mGs5C0"
      },
      "source": [
        "# 7. 모델 평가하기"
      ]
    },
    {
      "cell_type": "markdown",
      "metadata": {
        "id": "bMySsLJGtCR8"
      },
      "source": [
        "모델을 평가하기 위해, 우리는 데이터의 test set을 가지고 우리 모델을 통해 영어 문장이 독어 문장으로 잘 번역하는지 평가해볼 것이다. 우리는 여기서 모델이 정확히 예측하는지 평가하기 위해, 정답과 우리의 예측값을 비교해볼 것이다."
      ]
    },
    {
      "cell_type": "markdown",
      "metadata": {
        "id": "qKuCqGinuT8L"
      },
      "source": [
        "- 번역을 확인하는 함수는 evaluate 와 거의 비슷하다. 하지만 우리는 여기서 loss에 대해 관심을 갖지 않고, 오직 예측된 출력값에 대해서만 관심을 갖는다. 대신에, 우리는 여기서 모델이 출력되는 예측 문장(German)의 각 단어의 index를 알기 위해 argmax를 사용한다.  \n",
        "  \n",
        "- 그러면, 우리는 독어 단어 집합에서 실제 예측된 단어를 얻기 위해 이 인덱스를 사용할 수 있다.  \n",
        "  \n",
        "- 아래 코드에서 [1:-1]의 사용은 시작과 끝에 있는 sos, eos를 제외시키기 위해서이다."
      ]
    },
    {
      "cell_type": "code",
      "metadata": {
        "id": "5wVW8YTZthRL"
      },
      "source": [
        "def translate(model, iterator, limit = 4):\n",
        "    \n",
        "    model.eval()\n",
        "    \n",
        "    epoch_loss = 0\n",
        "    \n",
        "    with torch.no_grad():\n",
        "    \n",
        "        for i, batch in enumerate(iterator):\n",
        "            if i < limit :\n",
        "                \n",
        "                src = batch.src\n",
        "                trg = batch.trg\n",
        "\n",
        "                output = model(src, trg, 0)\n",
        "                preds = torch.tensor([[torch.argmax(x).item()] for x in output])\n",
        "                \n",
        "                print('English Input: ' + str([SOURCE.vocab.itos[x] for x in src][1:-1][::-1]))\n",
        "                print('Correct German Output: ' + str([TARGET.vocab.itos[x] for x in trg][1:-1]))\n",
        "                print('Predicted German Output: ' + str([TARGET.vocab.itos[x] for x in preds][1:-1]))\n",
        "                print('\\n')"
      ],
      "execution_count": 25,
      "outputs": []
    },
    {
      "cell_type": "code",
      "metadata": {
        "id": "VX49BofPvRgx"
      },
      "source": [
        "_, _, eval_iterator = BucketIterator.splits(\n",
        "    (train_data, valid_data, test_data), \n",
        "    batch_size = 1, \n",
        "    device = device)"
      ],
      "execution_count": 26,
      "outputs": []
    },
    {
      "cell_type": "code",
      "metadata": {
        "id": "vh7CbF7FvT97",
        "outputId": "7a26ac8b-3646-4c89-cca2-8a928866a254",
        "colab": {
          "base_uri": "https://localhost:8080/",
          "height": 357
        }
      },
      "source": [
        "output = translate(model, eval_iterator)"
      ],
      "execution_count": 27,
      "outputs": [
        {
          "output_type": "stream",
          "text": [
            "English Input: ['two', 'men', 'wearing', 'hats', '.']\n",
            "Correct German Output: ['zwei', 'männer', 'mit', 'mützen', '.']\n",
            "Predicted German Output: ['zwei', 'männer', 'mit', 'hüten', '.']\n",
            "\n",
            "\n",
            "English Input: ['young', 'woman', 'climbing', 'rock', 'face']\n",
            "Correct German Output: ['junge', 'frau', 'klettert', 'auf', 'felswand']\n",
            "Predicted German Output: ['eine', 'frau', 'frau', ',', 'die']\n",
            "\n",
            "\n",
            "English Input: ['a', 'woman', 'is', 'playing', 'volleyball', '.']\n",
            "Correct German Output: ['eine', 'frau', 'spielt', 'volleyball', '.']\n",
            "Predicted German Output: ['eine', 'frau', 'spielt', 'tennis', '.']\n",
            "\n",
            "\n",
            "English Input: ['three', 'men', 'are', 'walking', 'up', 'hill', '.']\n",
            "Correct German Output: ['drei', 'männer', 'gehen', 'bergauf', '.']\n",
            "Predicted German Output: ['drei', 'männer', 'laufen', 'durch', 'den']\n",
            "\n",
            "\n"
          ],
          "name": "stdout"
        }
      ]
    },
    {
      "cell_type": "markdown",
      "metadata": {
        "id": "UWeFd69fd7_6"
      },
      "source": [
        "# References  \n",
        "  \n",
        "[1] Thomas Dop,'Hands-On Natural Language Processing with PyTorch 1.x: Build Smart, AI-driven Linguistic Applications Using Deep Learning and NLP Techniques' (PACKT, July 9, 2020)  \n",
        "[2] cs224n lecture 8"
      ]
    }
  ]
}